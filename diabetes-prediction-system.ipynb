{
 "cells": [
  {
   "cell_type": "markdown",
   "id": "0c5dbf72",
   "metadata": {
    "_cell_guid": "f7bb1f8e-1a13-418a-a1ed-9281a6cc4189",
    "_uuid": "5120ccc5-c915-4550-967f-2dae8860ce8b",
    "collapsed": false,
    "jupyter": {
     "outputs_hidden": false
    },
    "papermill": {
     "duration": 0.002841,
     "end_time": "2025-09-18T10:37:48.147271",
     "exception": false,
     "start_time": "2025-09-18T10:37:48.144430",
     "status": "completed"
    },
    "tags": []
   },
   "source": [
    "# Predicting Diabetes\n",
    "Gonna implement this project in 4 different algorithms and then fianlly will decide which is the best algorithm for this problem. \n",
    "\n",
    "### Aim of the project .\n",
    "\n",
    "Machine learning algorithms can be used to predict the risk of developing diabetes,and in this project we will aim to successfully predict whether a person has diabetes or not using logistic regression,decision tree,random forest classifier and naive Bayes algorithms."
   ]
  },
  {
   "cell_type": "markdown",
   "id": "780448a5",
   "metadata": {
    "_cell_guid": "835d2653-5ea2-483b-98f0-c8e423d6c610",
    "_uuid": "0a54c21f-0e6a-4f68-bf92-05e2a2534310",
    "collapsed": false,
    "jupyter": {
     "outputs_hidden": false
    },
    "papermill": {
     "duration": 0.001993,
     "end_time": "2025-09-18T10:37:48.152109",
     "exception": false,
     "start_time": "2025-09-18T10:37:48.150116",
     "status": "completed"
    },
    "tags": []
   },
   "source": [
    "## Loading of data"
   ]
  },
  {
   "cell_type": "code",
   "execution_count": 1,
   "id": "bbcdaa61",
   "metadata": {
    "_cell_guid": "8ef616b9-87be-49f3-bb7d-58f0315c541f",
    "_uuid": "11eb40ee-2f25-461c-9de6-9a9f2d1cda81",
    "collapsed": false,
    "execution": {
     "iopub.execute_input": "2025-09-18T10:37:48.158045Z",
     "iopub.status.busy": "2025-09-18T10:37:48.157650Z",
     "iopub.status.idle": "2025-09-18T10:37:52.490529Z",
     "shell.execute_reply": "2025-09-18T10:37:52.488923Z"
    },
    "jupyter": {
     "outputs_hidden": false
    },
    "papermill": {
     "duration": 4.338372,
     "end_time": "2025-09-18T10:37:52.492787",
     "exception": false,
     "start_time": "2025-09-18T10:37:48.154415",
     "status": "completed"
    },
    "tags": []
   },
   "outputs": [
    {
     "data": {
      "text/html": [
       "<div>\n",
       "<style scoped>\n",
       "    .dataframe tbody tr th:only-of-type {\n",
       "        vertical-align: middle;\n",
       "    }\n",
       "\n",
       "    .dataframe tbody tr th {\n",
       "        vertical-align: top;\n",
       "    }\n",
       "\n",
       "    .dataframe thead th {\n",
       "        text-align: right;\n",
       "    }\n",
       "</style>\n",
       "<table border=\"1\" class=\"dataframe\">\n",
       "  <thead>\n",
       "    <tr style=\"text-align: right;\">\n",
       "      <th></th>\n",
       "      <th>Pregnancies</th>\n",
       "      <th>Glucose</th>\n",
       "      <th>BloodPressure</th>\n",
       "      <th>SkinThickness</th>\n",
       "      <th>Insulin</th>\n",
       "      <th>BMI</th>\n",
       "      <th>DiabetesPedigreeFunction</th>\n",
       "      <th>Age</th>\n",
       "      <th>Outcome</th>\n",
       "    </tr>\n",
       "  </thead>\n",
       "  <tbody>\n",
       "    <tr>\n",
       "      <th>0</th>\n",
       "      <td>6</td>\n",
       "      <td>148</td>\n",
       "      <td>72</td>\n",
       "      <td>35</td>\n",
       "      <td>0</td>\n",
       "      <td>33.6</td>\n",
       "      <td>0.627</td>\n",
       "      <td>50</td>\n",
       "      <td>1</td>\n",
       "    </tr>\n",
       "    <tr>\n",
       "      <th>1</th>\n",
       "      <td>1</td>\n",
       "      <td>85</td>\n",
       "      <td>66</td>\n",
       "      <td>29</td>\n",
       "      <td>0</td>\n",
       "      <td>26.6</td>\n",
       "      <td>0.351</td>\n",
       "      <td>31</td>\n",
       "      <td>0</td>\n",
       "    </tr>\n",
       "    <tr>\n",
       "      <th>2</th>\n",
       "      <td>8</td>\n",
       "      <td>183</td>\n",
       "      <td>64</td>\n",
       "      <td>0</td>\n",
       "      <td>0</td>\n",
       "      <td>23.3</td>\n",
       "      <td>0.672</td>\n",
       "      <td>32</td>\n",
       "      <td>1</td>\n",
       "    </tr>\n",
       "    <tr>\n",
       "      <th>3</th>\n",
       "      <td>1</td>\n",
       "      <td>89</td>\n",
       "      <td>66</td>\n",
       "      <td>23</td>\n",
       "      <td>94</td>\n",
       "      <td>28.1</td>\n",
       "      <td>0.167</td>\n",
       "      <td>21</td>\n",
       "      <td>0</td>\n",
       "    </tr>\n",
       "    <tr>\n",
       "      <th>4</th>\n",
       "      <td>0</td>\n",
       "      <td>137</td>\n",
       "      <td>40</td>\n",
       "      <td>35</td>\n",
       "      <td>168</td>\n",
       "      <td>43.1</td>\n",
       "      <td>2.288</td>\n",
       "      <td>33</td>\n",
       "      <td>1</td>\n",
       "    </tr>\n",
       "  </tbody>\n",
       "</table>\n",
       "</div>"
      ],
      "text/plain": [
       "   Pregnancies  Glucose  BloodPressure  SkinThickness  Insulin   BMI  \\\n",
       "0            6      148             72             35        0  33.6   \n",
       "1            1       85             66             29        0  26.6   \n",
       "2            8      183             64              0        0  23.3   \n",
       "3            1       89             66             23       94  28.1   \n",
       "4            0      137             40             35      168  43.1   \n",
       "\n",
       "   DiabetesPedigreeFunction  Age  Outcome  \n",
       "0                     0.627   50        1  \n",
       "1                     0.351   31        0  \n",
       "2                     0.672   32        1  \n",
       "3                     0.167   21        0  \n",
       "4                     2.288   33        1  "
      ]
     },
     "metadata": {},
     "output_type": "display_data"
    }
   ],
   "source": [
    "import pandas as pd\n",
    "import numpy as np\n",
    "from time import time\n",
    "from IPython.display import display # allows to use display() for dataframes\n",
    "import matplotlib.pyplot as plt\n",
    "import sklearn\n",
    "\n",
    "# pretty display for notebooks\n",
    "%matplotlib inline\n",
    "\n",
    "# loading the data\n",
    "data = pd.read_csv('/kaggle/input/diabetes-dataset/diabetes.csv')\n",
    "\n",
    "\n",
    "# Display records\n",
    "display(data.head())"
   ]
  },
  {
   "cell_type": "code",
   "execution_count": null,
   "id": "6b28bad1",
   "metadata": {
    "_cell_guid": "c34da866-68f1-4fbe-9c86-e43cdcb4a74c",
    "_uuid": "7b782d7f-4797-4945-8929-d882136d382a",
    "collapsed": false,
    "jupyter": {
     "outputs_hidden": false
    },
    "papermill": {
     "duration": 0.002783,
     "end_time": "2025-09-18T10:37:52.498626",
     "exception": false,
     "start_time": "2025-09-18T10:37:52.495843",
     "status": "completed"
    },
    "tags": []
   },
   "outputs": [],
   "source": []
  },
  {
   "cell_type": "markdown",
   "id": "f37f2c09",
   "metadata": {
    "_cell_guid": "48969825-22db-4982-a803-f00847bfb751",
    "_uuid": "0fb164a8-a40b-4433-8e98-a4bad9fac288",
    "collapsed": false,
    "jupyter": {
     "outputs_hidden": false
    },
    "papermill": {
     "duration": 0.002351,
     "end_time": "2025-09-18T10:37:52.503768",
     "exception": false,
     "start_time": "2025-09-18T10:37:52.501417",
     "status": "completed"
    },
    "tags": []
   },
   "source": [
    "## Feature set exploration\n",
    "\n",
    "1. pregnancies - how many a person has been pregnant .It ranges from 0 to 17 .\n",
    "2. Glucose - glucose level in the persons blood . Glucose levels are measured in mg/dL and range from 0 to 199 mg/dL\n",
    "3. blood pressure - represents persons blood pressure measurement . Blood pressure is measured in mm Hg and consists of 2 numbers , the systolic and diastolic blood pressure . The systolic blood pressure rnges from 0 to 122 mm Hg .While the diastolic blood pressure ranges from 0 to 99 mm Hg .\n",
    "4. SkinThickness - This attribute repersents the thickness of the person's skin in mm . Measured using caliper and can range from 0 to 99 mm .\n",
    "5. Insulin - range from 0 to 846\n",
    "6. BMI - range from 0 to 67.1 kg/m^2\n",
    "7. DiabetesPedigreeFunction - provides an estimate of the likelihood of the person developing diabetes based on family history .It is a dimensionless value and range from 0.078 to 2.42\n",
    "8. Age - range from 21 to 87 years\n",
    "9. outcome - 1 : person have diabetes 0 : does not have diabetes"
   ]
  },
  {
   "cell_type": "markdown",
   "id": "9feb2dc2",
   "metadata": {
    "_cell_guid": "1cdae263-c7b0-4e8b-aaab-c21e92bada1b",
    "_uuid": "96e1d9a4-d1e6-4985-8cb0-26f9aef74792",
    "collapsed": false,
    "jupyter": {
     "outputs_hidden": false
    },
    "papermill": {
     "duration": 0.002509,
     "end_time": "2025-09-18T10:37:52.509063",
     "exception": false,
     "start_time": "2025-09-18T10:37:52.506554",
     "status": "completed"
    },
    "tags": []
   },
   "source": [
    "## Preparing data"
   ]
  },
  {
   "cell_type": "code",
   "execution_count": null,
   "id": "7691eee3",
   "metadata": {
    "_cell_guid": "adc72cfb-fc1b-49fd-b3cb-e4b63cdeb866",
    "_uuid": "5545e7a0-8ca8-4c8f-a872-f04e2ffa49a9",
    "collapsed": false,
    "execution": {
     "iopub.execute_input": "2025-09-18T10:28:53.619951Z",
     "iopub.status.busy": "2025-09-18T10:28:53.619280Z",
     "iopub.status.idle": "2025-09-18T10:28:53.636688Z",
     "shell.execute_reply": "2025-09-18T10:28:53.635916Z",
     "shell.execute_reply.started": "2025-09-18T10:28:53.619920Z"
    },
    "jupyter": {
     "outputs_hidden": false
    },
    "papermill": {
     "duration": 0.00281,
     "end_time": "2025-09-18T10:37:52.514349",
     "exception": false,
     "start_time": "2025-09-18T10:37:52.511539",
     "status": "completed"
    },
    "tags": []
   },
   "outputs": [],
   "source": []
  }
 ],
 "metadata": {
  "kaggle": {
   "accelerator": "none",
   "dataSources": [
    {
     "datasetId": 2527538,
     "sourceId": 4289678,
     "sourceType": "datasetVersion"
    }
   ],
   "dockerImageVersionId": 31089,
   "isGpuEnabled": false,
   "isInternetEnabled": false,
   "language": "python",
   "sourceType": "notebook"
  },
  "kernelspec": {
   "display_name": "Python 3",
   "language": "python",
   "name": "python3"
  },
  "language_info": {
   "codemirror_mode": {
    "name": "ipython",
    "version": 3
   },
   "file_extension": ".py",
   "mimetype": "text/x-python",
   "name": "python",
   "nbconvert_exporter": "python",
   "pygments_lexer": "ipython3",
   "version": "3.11.13"
  },
  "papermill": {
   "default_parameters": {},
   "duration": 11.544055,
   "end_time": "2025-09-18T10:37:53.139208",
   "environment_variables": {},
   "exception": null,
   "input_path": "__notebook__.ipynb",
   "output_path": "__notebook__.ipynb",
   "parameters": {},
   "start_time": "2025-09-18T10:37:41.595153",
   "version": "2.6.0"
  }
 },
 "nbformat": 4,
 "nbformat_minor": 5
}
