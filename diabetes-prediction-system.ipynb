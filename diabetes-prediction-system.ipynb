{
 "cells": [
  {
   "cell_type": "markdown",
   "id": "d0f2a922",
   "metadata": {
    "_cell_guid": "f7bb1f8e-1a13-418a-a1ed-9281a6cc4189",
    "_uuid": "5120ccc5-c915-4550-967f-2dae8860ce8b",
    "collapsed": false,
    "jupyter": {
     "outputs_hidden": false
    },
    "papermill": {
     "duration": 0.005518,
     "end_time": "2025-09-18T12:51:42.896833",
     "exception": false,
     "start_time": "2025-09-18T12:51:42.891315",
     "status": "completed"
    },
    "tags": []
   },
   "source": [
    "# Predicting Diabetes\n",
    "Gonna implement this project in 4 different algorithms and then fianlly will decide which is the best algorithm for this problem. \n",
    "\n",
    "### Aim of the project .\n",
    "\n",
    "Machine learning algorithms can be used to predict the risk of developing diabetes,and in this project we will aim to successfully predict whether a person has diabetes or not using logistic regression,decision tree,random forest classifier and naive Bayes algorithms."
   ]
  },
  {
   "cell_type": "markdown",
   "id": "1f379020",
   "metadata": {
    "_cell_guid": "835d2653-5ea2-483b-98f0-c8e423d6c610",
    "_uuid": "0a54c21f-0e6a-4f68-bf92-05e2a2534310",
    "collapsed": false,
    "jupyter": {
     "outputs_hidden": false
    },
    "papermill": {
     "duration": 0.00457,
     "end_time": "2025-09-18T12:51:42.906258",
     "exception": false,
     "start_time": "2025-09-18T12:51:42.901688",
     "status": "completed"
    },
    "tags": []
   },
   "source": [
    "## Loading of data"
   ]
  },
  {
   "cell_type": "code",
   "execution_count": 1,
   "id": "2fa21207",
   "metadata": {
    "_cell_guid": "8ef616b9-87be-49f3-bb7d-58f0315c541f",
    "_uuid": "11eb40ee-2f25-461c-9de6-9a9f2d1cda81",
    "collapsed": false,
    "execution": {
     "iopub.execute_input": "2025-09-18T12:51:42.916861Z",
     "iopub.status.busy": "2025-09-18T12:51:42.916467Z",
     "iopub.status.idle": "2025-09-18T12:51:46.521884Z",
     "shell.execute_reply": "2025-09-18T12:51:46.520945Z"
    },
    "jupyter": {
     "outputs_hidden": false
    },
    "papermill": {
     "duration": 3.61262,
     "end_time": "2025-09-18T12:51:46.523514",
     "exception": false,
     "start_time": "2025-09-18T12:51:42.910894",
     "status": "completed"
    },
    "tags": []
   },
   "outputs": [
    {
     "data": {
      "text/html": [
       "<div>\n",
       "<style scoped>\n",
       "    .dataframe tbody tr th:only-of-type {\n",
       "        vertical-align: middle;\n",
       "    }\n",
       "\n",
       "    .dataframe tbody tr th {\n",
       "        vertical-align: top;\n",
       "    }\n",
       "\n",
       "    .dataframe thead th {\n",
       "        text-align: right;\n",
       "    }\n",
       "</style>\n",
       "<table border=\"1\" class=\"dataframe\">\n",
       "  <thead>\n",
       "    <tr style=\"text-align: right;\">\n",
       "      <th></th>\n",
       "      <th>Pregnancies</th>\n",
       "      <th>Glucose</th>\n",
       "      <th>BloodPressure</th>\n",
       "      <th>SkinThickness</th>\n",
       "      <th>Insulin</th>\n",
       "      <th>BMI</th>\n",
       "      <th>DiabetesPedigreeFunction</th>\n",
       "      <th>Age</th>\n",
       "      <th>Outcome</th>\n",
       "    </tr>\n",
       "  </thead>\n",
       "  <tbody>\n",
       "    <tr>\n",
       "      <th>0</th>\n",
       "      <td>6</td>\n",
       "      <td>148</td>\n",
       "      <td>72</td>\n",
       "      <td>35</td>\n",
       "      <td>0</td>\n",
       "      <td>33.6</td>\n",
       "      <td>0.627</td>\n",
       "      <td>50</td>\n",
       "      <td>1</td>\n",
       "    </tr>\n",
       "    <tr>\n",
       "      <th>1</th>\n",
       "      <td>1</td>\n",
       "      <td>85</td>\n",
       "      <td>66</td>\n",
       "      <td>29</td>\n",
       "      <td>0</td>\n",
       "      <td>26.6</td>\n",
       "      <td>0.351</td>\n",
       "      <td>31</td>\n",
       "      <td>0</td>\n",
       "    </tr>\n",
       "    <tr>\n",
       "      <th>2</th>\n",
       "      <td>8</td>\n",
       "      <td>183</td>\n",
       "      <td>64</td>\n",
       "      <td>0</td>\n",
       "      <td>0</td>\n",
       "      <td>23.3</td>\n",
       "      <td>0.672</td>\n",
       "      <td>32</td>\n",
       "      <td>1</td>\n",
       "    </tr>\n",
       "    <tr>\n",
       "      <th>3</th>\n",
       "      <td>1</td>\n",
       "      <td>89</td>\n",
       "      <td>66</td>\n",
       "      <td>23</td>\n",
       "      <td>94</td>\n",
       "      <td>28.1</td>\n",
       "      <td>0.167</td>\n",
       "      <td>21</td>\n",
       "      <td>0</td>\n",
       "    </tr>\n",
       "    <tr>\n",
       "      <th>4</th>\n",
       "      <td>0</td>\n",
       "      <td>137</td>\n",
       "      <td>40</td>\n",
       "      <td>35</td>\n",
       "      <td>168</td>\n",
       "      <td>43.1</td>\n",
       "      <td>2.288</td>\n",
       "      <td>33</td>\n",
       "      <td>1</td>\n",
       "    </tr>\n",
       "  </tbody>\n",
       "</table>\n",
       "</div>"
      ],
      "text/plain": [
       "   Pregnancies  Glucose  BloodPressure  SkinThickness  Insulin   BMI  \\\n",
       "0            6      148             72             35        0  33.6   \n",
       "1            1       85             66             29        0  26.6   \n",
       "2            8      183             64              0        0  23.3   \n",
       "3            1       89             66             23       94  28.1   \n",
       "4            0      137             40             35      168  43.1   \n",
       "\n",
       "   DiabetesPedigreeFunction  Age  Outcome  \n",
       "0                     0.627   50        1  \n",
       "1                     0.351   31        0  \n",
       "2                     0.672   32        1  \n",
       "3                     0.167   21        0  \n",
       "4                     2.288   33        1  "
      ]
     },
     "metadata": {},
     "output_type": "display_data"
    }
   ],
   "source": [
    "import pandas as pd\n",
    "import numpy as np\n",
    "from time import time\n",
    "from IPython.display import display # allows to use display() for dataframes\n",
    "import matplotlib.pyplot as plt\n",
    "import sklearn\n",
    "\n",
    "# pretty display for notebooks\n",
    "%matplotlib inline\n",
    "\n",
    "# loading the data\n",
    "data = pd.read_csv('/kaggle/input/diabetes-dataset/diabetes.csv')\n",
    "\n",
    "\n",
    "# Display records\n",
    "display(data.head())"
   ]
  },
  {
   "cell_type": "markdown",
   "id": "99cc6665",
   "metadata": {
    "_cell_guid": "48969825-22db-4982-a803-f00847bfb751",
    "_uuid": "0fb164a8-a40b-4433-8e98-a4bad9fac288",
    "collapsed": false,
    "jupyter": {
     "outputs_hidden": false
    },
    "papermill": {
     "duration": 0.004541,
     "end_time": "2025-09-18T12:51:46.533280",
     "exception": false,
     "start_time": "2025-09-18T12:51:46.528739",
     "status": "completed"
    },
    "tags": []
   },
   "source": [
    "1. Pregnancies: This attribute represents the number of times the person has been pregnant. It ranges from 0 to 17 pregnancies.\n",
    "\n",
    "2. Glucose: This attribute represents the glucose level in the person's blood. Glucose levels are measured in mg/dL and range from 0 to 199 mg/dL.\n",
    "\n",
    "3. BloodPressure: This attribute represents the person's blood pressure measurement. Blood pressure is measured in mm Hg and consists of two numbers, the systolic and diastolic blood pressure. The systolic blood pressure ranges from 0 to 122 mm Hg, while the diastolic blood pressure ranges from 0 to 99 mm Hg.\n",
    "\n",
    "4. SkinThickness: This attribute represents the thickness of the person's skin in mm. It is measured using a caliper and ranges from 0 to 99 mm.\n",
    "\n",
    "5. Insulin: This attribute represents the insulin level in the person's blood. Insulin is a hormone that regulates blood sugar levels. Insulin levels are measured in μU/mL and range from 0 to 846 μU/mL.\n",
    "\n",
    "6. BMI: This attribute represents the person's body mass index. BMI is a measure of body fat based on height and weight. It is calculated as weight in kilograms divided by height in meters squared and ranges from 0 to 67.1 kg/m².\n",
    "\n",
    "7. DiabetesPedigreeFunction: This attribute represents the person's diabetes pedigree function, which provides an estimate of the likelihood of the person developing diabetes based on family history. It is a dimensionless value and ranges from 0.078 to 2.42.\n",
    "\n",
    "8. Age: This attribute represents the person's age in years and ranges from 21 to 81 years.\n",
    "\n",
    "9. Outcome: This attribute represents the final result, where 1 indicates that the person has diabetes and 0 indicates that the person does not have diabetes."
   ]
  },
  {
   "cell_type": "markdown",
   "id": "1a64dc85",
   "metadata": {
    "_cell_guid": "1cdae263-c7b0-4e8b-aaab-c21e92bada1b",
    "_uuid": "96e1d9a4-d1e6-4985-8cb0-26f9aef74792",
    "collapsed": false,
    "jupyter": {
     "outputs_hidden": false
    },
    "papermill": {
     "duration": 0.004561,
     "end_time": "2025-09-18T12:51:46.542553",
     "exception": false,
     "start_time": "2025-09-18T12:51:46.537992",
     "status": "completed"
    },
    "tags": []
   },
   "source": [
    "## Preparing data"
   ]
  },
  {
   "cell_type": "code",
   "execution_count": 2,
   "id": "8a7f01eb",
   "metadata": {
    "_cell_guid": "adc72cfb-fc1b-49fd-b3cb-e4b63cdeb866",
    "_uuid": "5545e7a0-8ca8-4c8f-a872-f04e2ffa49a9",
    "collapsed": false,
    "execution": {
     "iopub.execute_input": "2025-09-18T12:51:46.553779Z",
     "iopub.status.busy": "2025-09-18T12:51:46.553467Z",
     "iopub.status.idle": "2025-09-18T12:51:46.561947Z",
     "shell.execute_reply": "2025-09-18T12:51:46.560944Z"
    },
    "jupyter": {
     "outputs_hidden": false
    },
    "papermill": {
     "duration": 0.0157,
     "end_time": "2025-09-18T12:51:46.563407",
     "exception": false,
     "start_time": "2025-09-18T12:51:46.547707",
     "status": "completed"
    },
    "tags": []
   },
   "outputs": [
    {
     "name": "stdout",
     "output_type": "stream",
     "text": [
      "Number of missing values in skin thickness column : 227\n",
      "Number of missing values in Insulin column : 374\n"
     ]
    }
   ],
   "source": [
    "# Find missing values\n",
    "\n",
    "print('Number of missing values in skin thickness column :' ,(data[\"SkinThickness\"]==0).sum())\n",
    "print('Number of missing values in Insulin column :' ,(data[\"Insulin\"]==0).sum())"
   ]
  },
  {
   "cell_type": "code",
   "execution_count": 3,
   "id": "99f9e6a3",
   "metadata": {
    "execution": {
     "iopub.execute_input": "2025-09-18T12:51:46.574439Z",
     "iopub.status.busy": "2025-09-18T12:51:46.574086Z",
     "iopub.status.idle": "2025-09-18T12:51:46.582230Z",
     "shell.execute_reply": "2025-09-18T12:51:46.581319Z"
    },
    "papermill": {
     "duration": 0.015286,
     "end_time": "2025-09-18T12:51:46.583676",
     "exception": false,
     "start_time": "2025-09-18T12:51:46.568390",
     "status": "completed"
    },
    "tags": []
   },
   "outputs": [
    {
     "name": "stderr",
     "output_type": "stream",
     "text": [
      "/tmp/ipykernel_13/1275211713.py:2: FutureWarning: Setting an item of incompatible dtype is deprecated and will raise an error in a future version of pandas. Value '20.536458333333332' has dtype incompatible with int64, please explicitly cast to a compatible dtype first.\n",
      "  data.loc[data[\"SkinThickness\"] == 0, \"SkinThickness\"] =  data[\"SkinThickness\"].mean()\n",
      "/tmp/ipykernel_13/1275211713.py:3: FutureWarning: Setting an item of incompatible dtype is deprecated and will raise an error in a future version of pandas. Value '79.79947916666667' has dtype incompatible with int64, please explicitly cast to a compatible dtype first.\n",
      "  data.loc[data[\"Insulin\"] == 0, \"Insulin\"] =  data[\"Insulin\"].mean()\n"
     ]
    }
   ],
   "source": [
    "# replace 0 values in both columns with the mean values of the column\n",
    "data.loc[data[\"SkinThickness\"] == 0, \"SkinThickness\"] =  data[\"SkinThickness\"].mean()\n",
    "data.loc[data[\"Insulin\"] == 0, \"Insulin\"] =  data[\"Insulin\"].mean()"
   ]
  },
  {
   "cell_type": "code",
   "execution_count": 4,
   "id": "324b7610",
   "metadata": {
    "execution": {
     "iopub.execute_input": "2025-09-18T12:51:46.596468Z",
     "iopub.status.busy": "2025-09-18T12:51:46.595853Z",
     "iopub.status.idle": "2025-09-18T12:51:46.601950Z",
     "shell.execute_reply": "2025-09-18T12:51:46.600910Z"
    },
    "papermill": {
     "duration": 0.014812,
     "end_time": "2025-09-18T12:51:46.603569",
     "exception": false,
     "start_time": "2025-09-18T12:51:46.588757",
     "status": "completed"
    },
    "tags": []
   },
   "outputs": [
    {
     "name": "stdout",
     "output_type": "stream",
     "text": [
      "0\n",
      "0\n"
     ]
    }
   ],
   "source": [
    "# count the number of 0 values left should be 0\n",
    "\n",
    "print((data[\"SkinThickness\"] == 0).sum())\n",
    "print((data[\"Insulin\"] == 0).sum())"
   ]
  },
  {
   "cell_type": "code",
   "execution_count": 5,
   "id": "86d78f97",
   "metadata": {
    "execution": {
     "iopub.execute_input": "2025-09-18T12:51:46.614967Z",
     "iopub.status.busy": "2025-09-18T12:51:46.614628Z",
     "iopub.status.idle": "2025-09-18T12:51:46.626986Z",
     "shell.execute_reply": "2025-09-18T12:51:46.626117Z"
    },
    "papermill": {
     "duration": 0.019833,
     "end_time": "2025-09-18T12:51:46.628448",
     "exception": false,
     "start_time": "2025-09-18T12:51:46.608615",
     "status": "completed"
    },
    "tags": []
   },
   "outputs": [
    {
     "data": {
      "text/html": [
       "<div>\n",
       "<style scoped>\n",
       "    .dataframe tbody tr th:only-of-type {\n",
       "        vertical-align: middle;\n",
       "    }\n",
       "\n",
       "    .dataframe tbody tr th {\n",
       "        vertical-align: top;\n",
       "    }\n",
       "\n",
       "    .dataframe thead th {\n",
       "        text-align: right;\n",
       "    }\n",
       "</style>\n",
       "<table border=\"1\" class=\"dataframe\">\n",
       "  <thead>\n",
       "    <tr style=\"text-align: right;\">\n",
       "      <th></th>\n",
       "      <th>Pregnancies</th>\n",
       "      <th>Glucose</th>\n",
       "      <th>BloodPressure</th>\n",
       "      <th>SkinThickness</th>\n",
       "      <th>Insulin</th>\n",
       "      <th>BMI</th>\n",
       "      <th>DiabetesPedigreeFunction</th>\n",
       "      <th>Age</th>\n",
       "      <th>Outcome</th>\n",
       "    </tr>\n",
       "  </thead>\n",
       "  <tbody>\n",
       "    <tr>\n",
       "      <th>0</th>\n",
       "      <td>6</td>\n",
       "      <td>148</td>\n",
       "      <td>72</td>\n",
       "      <td>35.000000</td>\n",
       "      <td>79.799479</td>\n",
       "      <td>33.6</td>\n",
       "      <td>0.627</td>\n",
       "      <td>50</td>\n",
       "      <td>1</td>\n",
       "    </tr>\n",
       "    <tr>\n",
       "      <th>1</th>\n",
       "      <td>1</td>\n",
       "      <td>85</td>\n",
       "      <td>66</td>\n",
       "      <td>29.000000</td>\n",
       "      <td>79.799479</td>\n",
       "      <td>26.6</td>\n",
       "      <td>0.351</td>\n",
       "      <td>31</td>\n",
       "      <td>0</td>\n",
       "    </tr>\n",
       "    <tr>\n",
       "      <th>2</th>\n",
       "      <td>8</td>\n",
       "      <td>183</td>\n",
       "      <td>64</td>\n",
       "      <td>20.536458</td>\n",
       "      <td>79.799479</td>\n",
       "      <td>23.3</td>\n",
       "      <td>0.672</td>\n",
       "      <td>32</td>\n",
       "      <td>1</td>\n",
       "    </tr>\n",
       "    <tr>\n",
       "      <th>3</th>\n",
       "      <td>1</td>\n",
       "      <td>89</td>\n",
       "      <td>66</td>\n",
       "      <td>23.000000</td>\n",
       "      <td>94.000000</td>\n",
       "      <td>28.1</td>\n",
       "      <td>0.167</td>\n",
       "      <td>21</td>\n",
       "      <td>0</td>\n",
       "    </tr>\n",
       "    <tr>\n",
       "      <th>4</th>\n",
       "      <td>0</td>\n",
       "      <td>137</td>\n",
       "      <td>40</td>\n",
       "      <td>35.000000</td>\n",
       "      <td>168.000000</td>\n",
       "      <td>43.1</td>\n",
       "      <td>2.288</td>\n",
       "      <td>33</td>\n",
       "      <td>1</td>\n",
       "    </tr>\n",
       "  </tbody>\n",
       "</table>\n",
       "</div>"
      ],
      "text/plain": [
       "   Pregnancies  Glucose  BloodPressure  SkinThickness     Insulin   BMI  \\\n",
       "0            6      148             72      35.000000   79.799479  33.6   \n",
       "1            1       85             66      29.000000   79.799479  26.6   \n",
       "2            8      183             64      20.536458   79.799479  23.3   \n",
       "3            1       89             66      23.000000   94.000000  28.1   \n",
       "4            0      137             40      35.000000  168.000000  43.1   \n",
       "\n",
       "   DiabetesPedigreeFunction  Age  Outcome  \n",
       "0                     0.627   50        1  \n",
       "1                     0.351   31        0  \n",
       "2                     0.672   32        1  \n",
       "3                     0.167   21        0  \n",
       "4                     2.288   33        1  "
      ]
     },
     "metadata": {},
     "output_type": "display_data"
    }
   ],
   "source": [
    "display(data.head())"
   ]
  },
  {
   "cell_type": "code",
   "execution_count": 6,
   "id": "54a99b20",
   "metadata": {
    "execution": {
     "iopub.execute_input": "2025-09-18T12:51:46.640208Z",
     "iopub.status.busy": "2025-09-18T12:51:46.639865Z",
     "iopub.status.idle": "2025-09-18T12:51:46.652240Z",
     "shell.execute_reply": "2025-09-18T12:51:46.651242Z"
    },
    "papermill": {
     "duration": 0.02009,
     "end_time": "2025-09-18T12:51:46.653852",
     "exception": false,
     "start_time": "2025-09-18T12:51:46.633762",
     "status": "completed"
    },
    "tags": []
   },
   "outputs": [
    {
     "name": "stdout",
     "output_type": "stream",
     "text": [
      "Total number of records: 768\n",
      "Number of persons diagonised with diabetes : 268\n",
      "Number of persons not having diabetes : 500\n",
      "Percentage of people who are Diabetic : 34.89583333333333%\n"
     ]
    }
   ],
   "source": [
    "#Total number of records\n",
    "n_records = len(data.index)\n",
    "\n",
    "#Number of records where outcome = 1\n",
    "n_1 = data[data.Outcome == 1].shape[0]\n",
    "\n",
    "#Number of records where outcome = 0\n",
    "n_0 = data[data.Outcome == 0].shape[0]\n",
    "\n",
    "#Percentage of individuals whose Outcome is 1\n",
    "n1_perc = (n_1/n_records) * 100\n",
    "\n",
    "# Print the results\n",
    "print(\"Total number of records: {}\".format(n_records))\n",
    "print(\"Number of persons diagonised with diabetes : {}\".format(n_1))\n",
    "print(\"Number of persons not having diabetes : {}\".format(n_0))\n",
    "print(\"Percentage of people who are Diabetic : {}%\".format(n1_perc))"
   ]
  },
  {
   "cell_type": "code",
   "execution_count": 7,
   "id": "33072af9",
   "metadata": {
    "execution": {
     "iopub.execute_input": "2025-09-18T12:51:46.665569Z",
     "iopub.status.busy": "2025-09-18T12:51:46.665121Z",
     "iopub.status.idle": "2025-09-18T12:51:47.211282Z",
     "shell.execute_reply": "2025-09-18T12:51:47.210258Z"
    },
    "papermill": {
     "duration": 0.553804,
     "end_time": "2025-09-18T12:51:47.212839",
     "exception": false,
     "start_time": "2025-09-18T12:51:46.659035",
     "status": "completed"
    },
    "tags": []
   },
   "outputs": [
    {
     "data": {
      "image/png": "[encoded data removed]",
      "text/plain": [
       "<Figure size 1100x500 with 2 Axes>"
      ]
     },
     "metadata": {},
     "output_type": "display_data"
    }
   ],
   "source": [
    "# Split the data into features and target label\n",
    "\n",
    "outcome_r = data['Outcome'] #target label\n",
    "features_r = data.drop('Outcome', axis = 1) #other features\n",
    "\n",
    "# Visualize skewed continuous features of original data\n",
    "fig = plt.figure(figsize = (11,5));\n",
    "\n",
    "# Skewed feature plotting\n",
    "for i, feature in enumerate(['SkinThickness','Insulin']):\n",
    "    ax = fig.add_subplot(1, 2, i+1)\n",
    "    ax.hist(data[feature], bins = 25, color = '#00A0A0')\n",
    "    ax.set_title(\"'%s' Feature Distribution\"%(feature), fontsize = 14)\n",
    "    ax.set_xlabel(\"Value\")\n",
    "    ax.set_ylabel(\"Number of Records\")"
   ]
  },
  {
   "cell_type": "code",
   "execution_count": 8,
   "id": "b6fcd177",
   "metadata": {
    "execution": {
     "iopub.execute_input": "2025-09-18T12:51:47.226856Z",
     "iopub.status.busy": "2025-09-18T12:51:47.226009Z",
     "iopub.status.idle": "2025-09-18T12:51:47.233060Z",
     "shell.execute_reply": "2025-09-18T12:51:47.232240Z"
    },
    "papermill": {
     "duration": 0.015407,
     "end_time": "2025-09-18T12:51:47.234540",
     "exception": false,
     "start_time": "2025-09-18T12:51:47.219133",
     "status": "completed"
    },
    "tags": []
   },
   "outputs": [],
   "source": [
    "def distribution(data, transformed = False):\n",
    "    \"\"\"\n",
    "    Visualization code for displaying skewed distributions of features\n",
    "    \"\"\"\n",
    "    \n",
    "    # Create figure\n",
    "    fig = plt.figure(figsize = (11,5));\n",
    "\n",
    "    # Skewed feature plotting\n",
    "    for i, feature in enumerate(['SkinThickness','Insulin']):\n",
    "        ax = fig.add_subplot(1, 2, i+1)\n",
    "        ax.hist(data[feature], bins = 25, color = '#00A0A0')\n",
    "        ax.set_title(\"'%s' Feature Distribution\"%(feature), fontsize = 14)\n",
    "        ax.set_xlabel(\"Value\")\n",
    "        ax.set_ylabel(\"Number of Records\")\n",
    "\n",
    "    # Plot aesthetics\n",
    "    if transformed:\n",
    "        fig.suptitle(\"Log-transformed Distributions\", \\\n",
    "            fontsize = 16, y = 1.03)\n",
    "    else:\n",
    "        fig.suptitle(\"Skewed Distributions\", \\\n",
    "            fontsize = 16, y = 1.03)\n",
    "\n",
    "    fig.tight_layout()\n",
    "    fig.show()"
   ]
  },
  {
   "cell_type": "code",
   "execution_count": 9,
   "id": "68fea13b",
   "metadata": {
    "execution": {
     "iopub.execute_input": "2025-09-18T12:51:47.247456Z",
     "iopub.status.busy": "2025-09-18T12:51:47.247132Z",
     "iopub.status.idle": "2025-09-18T12:51:47.768475Z",
     "shell.execute_reply": "2025-09-18T12:51:47.767525Z"
    },
    "papermill": {
     "duration": 0.52992,
     "end_time": "2025-09-18T12:51:47.770462",
     "exception": false,
     "start_time": "2025-09-18T12:51:47.240542",
     "status": "completed"
    },
    "tags": []
   },
   "outputs": [
    {
     "data": {
      "image/png": "[encoded data removed]",
      "text/plain": [
       "<Figure size 1100x500 with 2 Axes>"
      ]
     },
     "metadata": {},
     "output_type": "display_data"
    }
   ],
   "source": [
    "# Log-transform the skewed features\n",
    "skewed = ['SkinThickness','Insulin']\n",
    "features_log_transformed = pd.DataFrame(data = features_r)\n",
    "features_log_transformed[skewed] = features_r[skewed].apply(lambda x: np.log(x + 1))\n",
    "\n",
    "# Visualize the new log distributions\n",
    "distribution(features_log_transformed, transformed = True)"
   ]
  },
  {
   "cell_type": "code",
   "execution_count": 10,
   "id": "06e3aca5",
   "metadata": {
    "execution": {
     "iopub.execute_input": "2025-09-18T12:51:47.785047Z",
     "iopub.status.busy": "2025-09-18T12:51:47.784731Z",
     "iopub.status.idle": "2025-09-18T12:51:47.931647Z",
     "shell.execute_reply": "2025-09-18T12:51:47.930843Z"
    },
    "papermill": {
     "duration": 0.155711,
     "end_time": "2025-09-18T12:51:47.933079",
     "exception": false,
     "start_time": "2025-09-18T12:51:47.777368",
     "status": "completed"
    },
    "tags": []
   },
   "outputs": [
    {
     "data": {
      "text/html": [
       "<div>\n",
       "<style scoped>\n",
       "    .dataframe tbody tr th:only-of-type {\n",
       "        vertical-align: middle;\n",
       "    }\n",
       "\n",
       "    .dataframe tbody tr th {\n",
       "        vertical-align: top;\n",
       "    }\n",
       "\n",
       "    .dataframe thead th {\n",
       "        text-align: right;\n",
       "    }\n",
       "</style>\n",
       "<table border=\"1\" class=\"dataframe\">\n",
       "  <thead>\n",
       "    <tr style=\"text-align: right;\">\n",
       "      <th></th>\n",
       "      <th>Pregnancies</th>\n",
       "      <th>Glucose</th>\n",
       "      <th>BloodPressure</th>\n",
       "      <th>SkinThickness</th>\n",
       "      <th>Insulin</th>\n",
       "      <th>BMI</th>\n",
       "      <th>DiabetesPedigreeFunction</th>\n",
       "      <th>Age</th>\n",
       "    </tr>\n",
       "  </thead>\n",
       "  <tbody>\n",
       "    <tr>\n",
       "      <th>0</th>\n",
       "      <td>6</td>\n",
       "      <td>148</td>\n",
       "      <td>72</td>\n",
       "      <td>0.595502</td>\n",
       "      <td>0.417468</td>\n",
       "      <td>33.6</td>\n",
       "      <td>0.234415</td>\n",
       "      <td>50</td>\n",
       "    </tr>\n",
       "    <tr>\n",
       "      <th>1</th>\n",
       "      <td>1</td>\n",
       "      <td>85</td>\n",
       "      <td>66</td>\n",
       "      <td>0.523317</td>\n",
       "      <td>0.417468</td>\n",
       "      <td>26.6</td>\n",
       "      <td>0.116567</td>\n",
       "      <td>31</td>\n",
       "    </tr>\n",
       "    <tr>\n",
       "      <th>2</th>\n",
       "      <td>8</td>\n",
       "      <td>183</td>\n",
       "      <td>64</td>\n",
       "      <td>0.392087</td>\n",
       "      <td>0.417468</td>\n",
       "      <td>23.3</td>\n",
       "      <td>0.253629</td>\n",
       "      <td>32</td>\n",
       "    </tr>\n",
       "    <tr>\n",
       "      <th>3</th>\n",
       "      <td>1</td>\n",
       "      <td>89</td>\n",
       "      <td>66</td>\n",
       "      <td>0.434968</td>\n",
       "      <td>0.457607</td>\n",
       "      <td>28.1</td>\n",
       "      <td>0.038002</td>\n",
       "      <td>21</td>\n",
       "    </tr>\n",
       "    <tr>\n",
       "      <th>4</th>\n",
       "      <td>0</td>\n",
       "      <td>137</td>\n",
       "      <td>40</td>\n",
       "      <td>0.595502</td>\n",
       "      <td>0.600411</td>\n",
       "      <td>43.1</td>\n",
       "      <td>0.943638</td>\n",
       "      <td>33</td>\n",
       "    </tr>\n",
       "  </tbody>\n",
       "</table>\n",
       "</div>"
      ],
      "text/plain": [
       "   Pregnancies  Glucose  BloodPressure  SkinThickness   Insulin   BMI  \\\n",
       "0            6      148             72       0.595502  0.417468  33.6   \n",
       "1            1       85             66       0.523317  0.417468  26.6   \n",
       "2            8      183             64       0.392087  0.417468  23.3   \n",
       "3            1       89             66       0.434968  0.457607  28.1   \n",
       "4            0      137             40       0.595502  0.600411  43.1   \n",
       "\n",
       "   DiabetesPedigreeFunction  Age  \n",
       "0                  0.234415   50  \n",
       "1                  0.116567   31  \n",
       "2                  0.253629   32  \n",
       "3                  0.038002   21  \n",
       "4                  0.943638   33  "
      ]
     },
     "metadata": {},
     "output_type": "display_data"
    }
   ],
   "source": [
    "#Import sklearn.preprocessing.StandardScaler\n",
    "from sklearn.preprocessing import MinMaxScaler\n",
    "\n",
    "# Initialize a scaler, then apply it to the features\n",
    "scaler = MinMaxScaler() # default=(0, 1)\n",
    "numerical = ['Insulin','SkinThickness', 'DiabetesPedigreeFunction']\n",
    "\n",
    "features_log_minmax_transform = pd.DataFrame(data = features_log_transformed)\n",
    "features_log_minmax_transform[numerical] = scaler.fit_transform(features_log_transformed[numerical])\n",
    "\n",
    "# Show an example of a record with scaling applied\n",
    "display(features_log_minmax_transform.head(n = 5))\n",
    "features_final = features_log_minmax_transform"
   ]
  },
  {
   "cell_type": "markdown",
   "id": "d6e64023",
   "metadata": {
    "papermill": {
     "duration": 0.007153,
     "end_time": "2025-09-18T12:51:47.947491",
     "exception": false,
     "start_time": "2025-09-18T12:51:47.940338",
     "status": "completed"
    },
    "tags": []
   },
   "source": [
    "## Training and Testing dataset\n"
   ]
  },
  {
   "cell_type": "code",
   "execution_count": 11,
   "id": "064e1ef6",
   "metadata": {
    "execution": {
     "iopub.execute_input": "2025-09-18T12:51:47.962341Z",
     "iopub.status.busy": "2025-09-18T12:51:47.962016Z",
     "iopub.status.idle": "2025-09-18T12:51:48.090863Z",
     "shell.execute_reply": "2025-09-18T12:51:48.089750Z"
    },
    "papermill": {
     "duration": 0.137955,
     "end_time": "2025-09-18T12:51:48.092540",
     "exception": false,
     "start_time": "2025-09-18T12:51:47.954585",
     "status": "completed"
    },
    "tags": []
   },
   "outputs": [
    {
     "name": "stdout",
     "output_type": "stream",
     "text": [
      "Training set has 614 samples.\n",
      "Testing set has 154 samples.\n"
     ]
    }
   ],
   "source": [
    "# Import train_test_split\n",
    "from sklearn.model_selection import train_test_split\n",
    "\n",
    "# Split the 'features' and 'income' data into training and testing sets\n",
    "X_train, X_test, y_train, y_test = train_test_split(features_final, \n",
    "                                                    outcome_r, \n",
    "                                                    test_size = 0.2, \n",
    "                                                    random_state = 42)\n",
    "\n",
    "# Show the results of the split\n",
    "print(\"Training set has {} samples.\".format(X_train.shape[0]))\n",
    "print(\"Testing set has {} samples.\".format(X_test.shape[0]))"
   ]
  },
  {
   "cell_type": "markdown",
   "id": "29e481ac",
   "metadata": {
    "papermill": {
     "duration": 0.006246,
     "end_time": "2025-09-18T12:51:48.105552",
     "exception": false,
     "start_time": "2025-09-18T12:51:48.099306",
     "status": "completed"
    },
    "tags": []
   },
   "source": [
    "## Evaluating model performance\n",
    "In this section we will be exploring 4 different ML algorithms :\n",
    "\n",
    "Logistic Regression\n",
    "Decision Tree\n",
    "Random Forest\n",
    "Naive Bayes\n",
    "Note: Recap of accuracy, precision, recall\n",
    "\n",
    "Accuracy is a measure of how often the classifier correctly predicts the class of a data point. It's calculated as the ratio of the number of correct predictions to the total number of predictions made on the test dataset.\n",
    "\n",
    "Precision is a measure of the proportion of positive predictions that are true positives. In other words, it's the ratio of the true positives to the total number of positive predictions made by the classifier.\n",
    "\n",
    "[True Positives/(True Positives + False Positives)]\n",
    "\n",
    "Recall also known as sensitivity, is a measure of the proportion of true positive instances that were correctly predicted by the classifier. It's calculated as the ratio of the true positives to the sum of the true positives and false negatives.\n",
    "\n",
    "[True Positives/(True Positives + False Negatives)]"
   ]
  },
  {
   "cell_type": "markdown",
   "id": "9c382d63",
   "metadata": {
    "papermill": {
     "duration": 0.006114,
     "end_time": "2025-09-18T12:51:48.118179",
     "exception": false,
     "start_time": "2025-09-18T12:51:48.112065",
     "status": "completed"
    },
    "tags": []
   },
   "source": [
    "## Creating a Training and Predicting Pipeline"
   ]
  },
  {
   "cell_type": "code",
   "execution_count": 12,
   "id": "b53687a8",
   "metadata": {
    "execution": {
     "iopub.execute_input": "2025-09-18T12:51:48.132634Z",
     "iopub.status.busy": "2025-09-18T12:51:48.132033Z",
     "iopub.status.idle": "2025-09-18T12:51:48.139801Z",
     "shell.execute_reply": "2025-09-18T12:51:48.139075Z"
    },
    "papermill": {
     "duration": 0.016473,
     "end_time": "2025-09-18T12:51:48.141144",
     "exception": false,
     "start_time": "2025-09-18T12:51:48.124671",
     "status": "completed"
    },
    "tags": []
   },
   "outputs": [],
   "source": [
    "\n",
    "#Import two metrics from sklearn - fbeta_score and accuracy_score\n",
    "from time import time\n",
    "from sklearn.metrics import fbeta_score,accuracy_score\n",
    "def train_predict(learner, sample_size, X_train, y_train, X_test, y_test): \n",
    "    '''\n",
    "    inputs:\n",
    "       - learner: the learning algorithm to be trained and predicted on\n",
    "       - sample_size: the size of samples (number) to be drawn from training set\n",
    "       - X_train: features training set\n",
    "       - y_train: income training set\n",
    "       - X_test: features testing set\n",
    "       - y_test: income testing set\n",
    "    '''\n",
    "    results = {}\n",
    "    \n",
    "    #Fit the learner to the training data using slicing with 'sample_size' using .fit(training_features[:], training_labels[:])\n",
    "    start = time()\n",
    "    learner = learner.fit(X_train[:sample_size],y_train[:sample_size])\n",
    "    end = time()\n",
    "    results['train_time'] = end - start\n",
    "        \n",
    "    # Get the predictions on the test set(X_test),\n",
    "    #       then get predictions on the first 300 training samples(X_train) using .predict()\n",
    "    start = time()\n",
    "    predictions_test = learner.predict(X_test)\n",
    "    predictions_train = learner.predict(X_train[:300])\n",
    "    end = time()\n",
    "    results['pred_time'] = end - start\n",
    "            \n",
    "    # Compute accuracy on the first 300 training samples which is y_train[:300]\n",
    "    results['acc_train'] = accuracy_score(y_train[:300], predictions_train)\n",
    "        \n",
    "    # Compute accuracy on test set using accuracy_score()\n",
    "    results['acc_test'] = accuracy_score(y_test,predictions_test)\n",
    "    \n",
    "    # Compute F-score on the the first 300 training samples using fbeta_score()\n",
    "    results['f_train'] = fbeta_score(y_train[:300],predictions_train,pos_label=1, average= 'binary',beta =0.5)\n",
    "        \n",
    "    # Compute F-score on the test set which is y_test\n",
    "    results['f_test'] = fbeta_score(y_test,predictions_test,pos_label=1, average= 'binary',beta =0.5)\n",
    "       \n",
    "    # Success\n",
    "    print(\"{} trained on {} samples.\".format(learner.__class__.__name__, sample_size))\n",
    "        \n",
    "    # Return the results\n",
    "    return results"
   ]
  },
  {
   "cell_type": "code",
   "execution_count": 13,
   "id": "57ed9190",
   "metadata": {
    "execution": {
     "iopub.execute_input": "2025-09-18T12:51:48.155449Z",
     "iopub.status.busy": "2025-09-18T12:51:48.155141Z",
     "iopub.status.idle": "2025-09-18T12:51:49.981220Z",
     "shell.execute_reply": "2025-09-18T12:51:49.980237Z"
    },
    "papermill": {
     "duration": 1.834965,
     "end_time": "2025-09-18T12:51:49.982807",
     "exception": false,
     "start_time": "2025-09-18T12:51:48.147842",
     "status": "completed"
    },
    "tags": []
   },
   "outputs": [
    {
     "name": "stdout",
     "output_type": "stream",
     "text": [
      "LogisticRegression trained on 6 samples.\n",
      "LogisticRegression trained on 61 samples.\n"
     ]
    },
    {
     "name": "stderr",
     "output_type": "stream",
     "text": [
      "/usr/local/lib/python3.11/dist-packages/sklearn/linear_model/_logistic.py:458: ConvergenceWarning: lbfgs failed to converge (status=1):\n",
      "STOP: TOTAL NO. OF ITERATIONS REACHED LIMIT.\n",
      "\n",
      "Increase the number of iterations (max_iter) or scale the data as shown in:\n",
      "    https://scikit-learn.org/stable/modules/preprocessing.html\n",
      "Please also refer to the documentation for alternative solver options:\n",
      "    https://scikit-learn.org/stable/modules/linear_model.html#logistic-regression\n",
      "  n_iter_i = _check_optimize_result(\n",
      "/usr/local/lib/python3.11/dist-packages/sklearn/linear_model/_logistic.py:458: ConvergenceWarning: lbfgs failed to converge (status=1):\n",
      "STOP: TOTAL NO. OF ITERATIONS REACHED LIMIT.\n",
      "\n",
      "Increase the number of iterations (max_iter) or scale the data as shown in:\n",
      "    https://scikit-learn.org/stable/modules/preprocessing.html\n",
      "Please also refer to the documentation for alternative solver options:\n",
      "    https://scikit-learn.org/stable/modules/linear_model.html#logistic-regression\n",
      "  n_iter_i = _check_optimize_result(\n"
     ]
    },
    {
     "name": "stdout",
     "output_type": "stream",
     "text": [
      "LogisticRegression trained on 614 samples.\n",
      "RandomForestClassifier trained on 6 samples.\n",
      "RandomForestClassifier trained on 61 samples.\n",
      "RandomForestClassifier trained on 614 samples.\n",
      "AdaBoostClassifier trained on 6 samples.\n",
      "AdaBoostClassifier trained on 61 samples.\n",
      "AdaBoostClassifier trained on 614 samples.\n"
     ]
    }
   ],
   "source": [
    "#Import the three supervised learning models from sklearn\n",
    "from sklearn.linear_model import LogisticRegression\n",
    "from sklearn.ensemble import RandomForestClassifier\n",
    "from sklearn.ensemble import AdaBoostClassifier\n",
    "from sklearn.tree import DecisionTreeClassifier\n",
    "\n",
    "#Initialize the three models\n",
    "clf_A = LogisticRegression(random_state=42)\n",
    "clf_B = RandomForestClassifier()\n",
    "clf_C = AdaBoostClassifier(DecisionTreeClassifier(max_depth=5),random_state=42)\n",
    "\n",
    "#Calculate the number of samples for 1%, 10%, and 100% of the training data\n",
    "#samples_100 is the entire training set i.e. len(y_train)\n",
    "#samples_10 is 10% of samples_100 (ensure to set the count of the values to be `int` and not `float`)\n",
    "#samples_1 is 1% of samples_100 (ensure to set the count of the values to be `int` and not `float`)\n",
    "samples_100 = len(y_train)\n",
    "samples_10 = int(0.1 * samples_100)\n",
    "samples_1 = int(0.01 * samples_100)\n",
    "\n",
    "# Collect results on the learners\n",
    "results = {}\n",
    "for clf in [clf_A, clf_B, clf_C]:\n",
    "    clf_name = clf.__class__.__name__\n",
    "    results[clf_name] = {}\n",
    "    for i, samples in enumerate([samples_1, samples_10, samples_100]):\n",
    "        results[clf_name][i] = \\\n",
    "        train_predict(clf, samples, X_train, y_train, X_test, y_test)"
   ]
  },
  {
   "cell_type": "code",
   "execution_count": 14,
   "id": "a1319d14",
   "metadata": {
    "execution": {
     "iopub.execute_input": "2025-09-18T12:51:49.998370Z",
     "iopub.status.busy": "2025-09-18T12:51:49.998027Z",
     "iopub.status.idle": "2025-09-18T12:51:50.012152Z",
     "shell.execute_reply": "2025-09-18T12:51:50.011341Z"
    },
    "papermill": {
     "duration": 0.023703,
     "end_time": "2025-09-18T12:51:50.013750",
     "exception": false,
     "start_time": "2025-09-18T12:51:49.990047",
     "status": "completed"
    },
    "tags": []
   },
   "outputs": [],
   "source": [
    "import matplotlib.patches as mpatches\n",
    "def evaluate(results, accuracy, f1):\n",
    "    \"\"\"\n",
    "    Visualization code to display results of various learners.\n",
    "    \n",
    "    inputs:\n",
    "      - learners: a list of supervised learners\n",
    "      - stats: a list of dictionaries of the statistic results from 'train_predict()'\n",
    "      - accuracy: The score for the naive predictor\n",
    "      - f1: The score for the naive predictor\n",
    "    \"\"\"\n",
    "  \n",
    "    # Create figure\n",
    "    fig, ax = plt.subplots(2, 3, figsize = (11,7))\n",
    "\n",
    "    # Constants\n",
    "    bar_width = 0.3\n",
    "    colors = ['#A00000','#00A0A0','#00A000']\n",
    "    \n",
    "    # Super loop to plot four panels of data\n",
    "    for k, learner in enumerate(results.keys()):\n",
    "        for j, metric in enumerate(['train_time', 'acc_train', 'f_train', 'pred_time', 'acc_test', 'f_test']):\n",
    "            for i in np.arange(3):\n",
    "                \n",
    "                # Creative plot code\n",
    "                ax[j//3, j%3].bar(i+k*bar_width, results[learner][i][metric], width = bar_width, color = colors[k])\n",
    "                ax[j//3, j%3].set_xticks([0.45, 1.45, 2.45])\n",
    "                ax[j//3, j%3].set_xticklabels([\"1%\", \"10%\", \"100%\"])\n",
    "                ax[j//3, j%3].set_xlabel(\"Training Set Size\")\n",
    "                ax[j//3, j%3].set_xlim((-0.1, 3.0))\n",
    "    \n",
    "    # Add unique y-labels\n",
    "    ax[0, 0].set_ylabel(\"Time (in seconds)\")\n",
    "    ax[0, 1].set_ylabel(\"Accuracy Score\")\n",
    "    ax[0, 2].set_ylabel(\"F-score\")\n",
    "    ax[1, 0].set_ylabel(\"Time (in seconds)\")\n",
    "    ax[1, 1].set_ylabel(\"Accuracy Score\")\n",
    "    ax[1, 2].set_ylabel(\"F-score\")\n",
    "    \n",
    "    # Add titles\n",
    "    ax[0, 0].set_title(\"Model Training\")\n",
    "    ax[0, 1].set_title(\"Accuracy Score on Training Subset\")\n",
    "    ax[0, 2].set_title(\"F-score on Training Subset\")\n",
    "    ax[1, 0].set_title(\"Model Predicting\")\n",
    "    ax[1, 1].set_title(\"Accuracy Score on Testing Set\")\n",
    "    ax[1, 2].set_title(\"F-score on Testing Set\")\n",
    "    \n",
    "    # Add horizontal lines for naive predictors\n",
    "    ax[0, 1].axhline(y = accuracy, xmin = -0.1, xmax = 3.0, linewidth = 1, color = 'k', linestyle = 'dashed')\n",
    "    ax[1, 1].axhline(y = accuracy, xmin = -0.1, xmax = 3.0, linewidth = 1, color = 'k', linestyle = 'dashed')\n",
    "    ax[0, 2].axhline(y = f1, xmin = -0.1, xmax = 3.0, linewidth = 1, color = 'k', linestyle = 'dashed')\n",
    "    ax[1, 2].axhline(y = f1, xmin = -0.1, xmax = 3.0, linewidth = 1, color = 'k', linestyle = 'dashed')\n",
    "    \n",
    "    # Set y-limits for score panels\n",
    "    ax[0, 1].set_ylim((0, 1))\n",
    "    ax[0, 2].set_ylim((0, 1))\n",
    "    ax[1, 1].set_ylim((0, 1))\n",
    "    ax[1, 2].set_ylim((0, 1))\n",
    "\n",
    "    # Create patches for the legend\n",
    "    patches = []\n",
    "    for i, learner in enumerate(results.keys()):\n",
    "        patches.append(mpatches.Patch(color = colors[i], label = learner))\n",
    "    plt.legend(handles = patches, bbox_to_anchor = (-.80, 2.53), \\\n",
    "               loc = 'upper center', borderaxespad = 0., ncol = 3, fontsize = 'large')\n",
    "    \n",
    "    # Aesthetics\n",
    "    plt.suptitle(\"Performance Metrics for Three Supervised Learning Models\", fontsize = 16, y = 1.10)\n",
    "    plt.tight_layout()\n",
    "    plt.show()\n",
    "    "
   ]
  },
  {
   "cell_type": "code",
   "execution_count": 15,
   "id": "9cd218f5",
   "metadata": {
    "execution": {
     "iopub.execute_input": "2025-09-18T12:51:50.030179Z",
     "iopub.status.busy": "2025-09-18T12:51:50.029426Z",
     "iopub.status.idle": "2025-09-18T12:51:50.035555Z",
     "shell.execute_reply": "2025-09-18T12:51:50.034671Z"
    },
    "papermill": {
     "duration": 0.015972,
     "end_time": "2025-09-18T12:51:50.036923",
     "exception": false,
     "start_time": "2025-09-18T12:51:50.020951",
     "status": "completed"
    },
    "tags": []
   },
   "outputs": [
    {
     "name": "stdout",
     "output_type": "stream",
     "text": [
      "Naive Predictor: [Accuracy score: 0.3490, F-score: 0.4012]\n"
     ]
    }
   ],
   "source": [
    "#Calculate accuracy, precision and recall\n",
    "accuracy = n_1/n_records\n",
    "precision = n_1/n_records\n",
    "recall = np.sum(outcome_r)/np.sum(outcome_r)\n",
    "\n",
    "# TODO: Calculate F-score using the formula above for beta = 0.5 and correct values for precision and recall.\n",
    "fscore = (1+np.square(0.5))*precision*recall/((np.square(0.5)*precision)+recall)\n",
    "\n",
    "# Print the results \n",
    "print(\"Naive Predictor: [Accuracy score: {:.4f}, F-score: {:.4f}]\".format(accuracy, fscore))"
   ]
  },
  {
   "cell_type": "code",
   "execution_count": 16,
   "id": "442c4169",
   "metadata": {
    "execution": {
     "iopub.execute_input": "2025-09-18T12:51:50.052490Z",
     "iopub.status.busy": "2025-09-18T12:51:50.052140Z",
     "iopub.status.idle": "2025-09-18T12:51:50.993231Z",
     "shell.execute_reply": "2025-09-18T12:51:50.992064Z"
    },
    "papermill": {
     "duration": 0.95082,
     "end_time": "2025-09-18T12:51:50.994808",
     "exception": false,
     "start_time": "2025-09-18T12:51:50.043988",
     "status": "completed"
    },
    "tags": []
   },
   "outputs": [
    {
     "name": "stderr",
     "output_type": "stream",
     "text": [
      "/tmp/ipykernel_13/815125844.py:69: UserWarning: Tight layout not applied. tight_layout cannot make axes width small enough to accommodate all axes decorations\n",
      "  plt.tight_layout()\n"
     ]
    },
    {
     "data": {
      "image/png": "[encoded data removed]",
      "text/plain": [
       "<Figure size 1100x700 with 6 Axes>"
      ]
     },
     "metadata": {},
     "output_type": "display_data"
    }
   ],
   "source": [
    "evaluate(results, accuracy, fscore)\n"
   ]
  },
  {
   "cell_type": "markdown",
   "id": "64b4ab13",
   "metadata": {
    "papermill": {
     "duration": 0.009057,
     "end_time": "2025-09-18T12:51:51.013686",
     "exception": false,
     "start_time": "2025-09-18T12:51:51.004629",
     "status": "completed"
    },
    "tags": []
   },
   "source": [
    "## Model Tuning\n",
    "\n",
    "Model tuning involves adjusting the hyperparameters of the machine learning model to improve its performance. It is a critical step in the machine learning pipeline that can significantly impact the accuracy and efficiency of the model."
   ]
  },
  {
   "cell_type": "code",
   "execution_count": 17,
   "id": "50181451",
   "metadata": {
    "execution": {
     "iopub.execute_input": "2025-09-18T12:51:51.032972Z",
     "iopub.status.busy": "2025-09-18T12:51:51.032625Z",
     "iopub.status.idle": "2025-09-18T12:51:55.291664Z",
     "shell.execute_reply": "2025-09-18T12:51:55.290624Z"
    },
    "papermill": {
     "duration": 4.270471,
     "end_time": "2025-09-18T12:51:55.293141",
     "exception": false,
     "start_time": "2025-09-18T12:51:51.022670",
     "status": "completed"
    },
    "tags": []
   },
   "outputs": [
    {
     "name": "stdout",
     "output_type": "stream",
     "text": [
      "Random Forest\n",
      "Unoptimized model accuracy: 0.7468\n",
      "Optimized model accuracy: 0.7792\n",
      "Unoptimized model F-score: 0.6452\n",
      "Optimized model F-score: 0.6909\n"
     ]
    }
   ],
   "source": [
    "\n",
    "import warnings\n",
    "warnings.filterwarnings(\"ignore\", category = UserWarning, module = \"matplotlib\")\n",
    "\n",
    "#Import necessary libraries\n",
    "from sklearn.ensemble import RandomForestClassifier\n",
    "from sklearn.model_selection import GridSearchCV\n",
    "from sklearn.metrics import make_scorer, fbeta_score, accuracy_score\n",
    "\n",
    "#Initialize the classifier\n",
    "clf = RandomForestClassifier(random_state=42)\n",
    "\n",
    "parameters = {'n_estimators':[5,10,15,20,25],'max_depth': [2, 4, 6, 8, 10]}\n",
    "\n",
    "#Creating the fbeta_score and accuracy_score scoring objects\n",
    "scorer = make_scorer(fbeta_score, beta=0.5)\n",
    "acc_scorer = make_scorer(accuracy_score)\n",
    "\n",
    "#Perform grid search on classifier using GridSearchCV()\n",
    "grid_obj = GridSearchCV(clf, parameters, scoring=scorer)\n",
    "\n",
    "#Fit the grid search object to the training data and find the optimal parameters using fit()\n",
    "grid_fit = grid_obj.fit(X_train, y_train)\n",
    "\n",
    "#Get the best estimator for classifier\n",
    "best_clf = grid_fit.best_estimator_\n",
    "\n",
    "#Make predictions using the unoptimized and optimized classifiers\n",
    "predictions = clf.fit(X_train, y_train).predict(X_test)\n",
    "best_predictions = best_clf.predict(X_test)\n",
    "\n",
    "#Print the results\n",
    "print(\"Random Forest\")\n",
    "print(\"Unoptimized model accuracy: {:.4f}\".format(accuracy_score(y_test, predictions)))\n",
    "print(\"Optimized model accuracy: {:.4f}\".format(accuracy_score(y_test, best_predictions)))\n",
    "print(\"Unoptimized model F-score: {:.4f}\".format(fbeta_score(y_test, predictions, beta=0.5)))\n",
    "print(\"Optimized model F-score: {:.4f}\".format(fbeta_score(y_test, best_predictions, beta=0.5)))"
   ]
  }
 ],
 "metadata": {
  "kaggle": {
   "accelerator": "none",
   "dataSources": [
    {
     "datasetId": 2527538,
     "sourceId": 4289678,
     "sourceType": "datasetVersion"
    }
   ],
   "dockerImageVersionId": 31089,
   "isGpuEnabled": false,
   "isInternetEnabled": false,
   "language": "python",
   "sourceType": "notebook"
  },
  "kernelspec": {
   "display_name": "Python 3",
   "language": "python",
   "name": "python3"
  },
  "language_info": {
   "codemirror_mode": {
    "name": "ipython",
    "version": 3
   },
   "file_extension": ".py",
   "mimetype": "text/x-python",
   "name": "python",
   "nbconvert_exporter": "python",
   "pygments_lexer": "ipython3",
   "version": "3.11.13"
  },
  "papermill": {
   "default_parameters": {},
   "duration": 18.932677,
   "end_time": "2025-09-18T12:51:56.024080",
   "environment_variables": {},
   "exception": null,
   "input_path": "__notebook__.ipynb",
   "output_path": "__notebook__.ipynb",
   "parameters": {},
   "start_time": "2025-09-18T12:51:37.091403",
   "version": "2.6.0"
  }
 },
 "nbformat": 4,
 "nbformat_minor": 5
}
