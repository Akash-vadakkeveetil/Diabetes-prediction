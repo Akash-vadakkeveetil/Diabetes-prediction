{
 "cells": [
  {
   "cell_type": "markdown",
   "id": "ef6bc3c7",
   "metadata": {
    "_cell_guid": "f7bb1f8e-1a13-418a-a1ed-9281a6cc4189",
    "_uuid": "5120ccc5-c915-4550-967f-2dae8860ce8b",
    "collapsed": false,
    "jupyter": {
     "outputs_hidden": false
    },
    "papermill": {
     "duration": 0.004271,
     "end_time": "2025-09-18T12:36:41.149040",
     "exception": false,
     "start_time": "2025-09-18T12:36:41.144769",
     "status": "completed"
    },
    "tags": []
   },
   "source": [
    "# Predicting Diabetes\n",
    "Gonna implement this project in 4 different algorithms and then fianlly will decide which is the best algorithm for this problem. \n",
    "\n",
    "### Aim of the project .\n",
    "\n",
    "Machine learning algorithms can be used to predict the risk of developing diabetes,and in this project we will aim to successfully predict whether a person has diabetes or not using logistic regression,decision tree,random forest classifier and naive Bayes algorithms."
   ]
  },
  {
   "cell_type": "markdown",
   "id": "04c502fb",
   "metadata": {
    "_cell_guid": "835d2653-5ea2-483b-98f0-c8e423d6c610",
    "_uuid": "0a54c21f-0e6a-4f68-bf92-05e2a2534310",
    "collapsed": false,
    "jupyter": {
     "outputs_hidden": false
    },
    "papermill": {
     "duration": 0.00308,
     "end_time": "2025-09-18T12:36:41.155666",
     "exception": false,
     "start_time": "2025-09-18T12:36:41.152586",
     "status": "completed"
    },
    "tags": []
   },
   "source": [
    "## Loading of data"
   ]
  },
  {
   "cell_type": "code",
   "execution_count": 1,
   "id": "12bea412",
   "metadata": {
    "_cell_guid": "8ef616b9-87be-49f3-bb7d-58f0315c541f",
    "_uuid": "11eb40ee-2f25-461c-9de6-9a9f2d1cda81",
    "collapsed": false,
    "execution": {
     "iopub.execute_input": "2025-09-18T12:36:41.163733Z",
     "iopub.status.busy": "2025-09-18T12:36:41.163367Z",
     "iopub.status.idle": "2025-09-18T12:36:44.961687Z",
     "shell.execute_reply": "2025-09-18T12:36:44.960611Z"
    },
    "jupyter": {
     "outputs_hidden": false
    },
    "papermill": {
     "duration": 3.804355,
     "end_time": "2025-09-18T12:36:44.963377",
     "exception": false,
     "start_time": "2025-09-18T12:36:41.159022",
     "status": "completed"
    },
    "tags": []
   },
   "outputs": [
    {
     "data": {
      "text/html": [
       "<div>\n",
       "<style scoped>\n",
       "    .dataframe tbody tr th:only-of-type {\n",
       "        vertical-align: middle;\n",
       "    }\n",
       "\n",
       "    .dataframe tbody tr th {\n",
       "        vertical-align: top;\n",
       "    }\n",
       "\n",
       "    .dataframe thead th {\n",
       "        text-align: right;\n",
       "    }\n",
       "</style>\n",
       "<table border=\"1\" class=\"dataframe\">\n",
       "  <thead>\n",
       "    <tr style=\"text-align: right;\">\n",
       "      <th></th>\n",
       "      <th>Pregnancies</th>\n",
       "      <th>Glucose</th>\n",
       "      <th>BloodPressure</th>\n",
       "      <th>SkinThickness</th>\n",
       "      <th>Insulin</th>\n",
       "      <th>BMI</th>\n",
       "      <th>DiabetesPedigreeFunction</th>\n",
       "      <th>Age</th>\n",
       "      <th>Outcome</th>\n",
       "    </tr>\n",
       "  </thead>\n",
       "  <tbody>\n",
       "    <tr>\n",
       "      <th>0</th>\n",
       "      <td>6</td>\n",
       "      <td>148</td>\n",
       "      <td>72</td>\n",
       "      <td>35</td>\n",
       "      <td>0</td>\n",
       "      <td>33.6</td>\n",
       "      <td>0.627</td>\n",
       "      <td>50</td>\n",
       "      <td>1</td>\n",
       "    </tr>\n",
       "    <tr>\n",
       "      <th>1</th>\n",
       "      <td>1</td>\n",
       "      <td>85</td>\n",
       "      <td>66</td>\n",
       "      <td>29</td>\n",
       "      <td>0</td>\n",
       "      <td>26.6</td>\n",
       "      <td>0.351</td>\n",
       "      <td>31</td>\n",
       "      <td>0</td>\n",
       "    </tr>\n",
       "    <tr>\n",
       "      <th>2</th>\n",
       "      <td>8</td>\n",
       "      <td>183</td>\n",
       "      <td>64</td>\n",
       "      <td>0</td>\n",
       "      <td>0</td>\n",
       "      <td>23.3</td>\n",
       "      <td>0.672</td>\n",
       "      <td>32</td>\n",
       "      <td>1</td>\n",
       "    </tr>\n",
       "    <tr>\n",
       "      <th>3</th>\n",
       "      <td>1</td>\n",
       "      <td>89</td>\n",
       "      <td>66</td>\n",
       "      <td>23</td>\n",
       "      <td>94</td>\n",
       "      <td>28.1</td>\n",
       "      <td>0.167</td>\n",
       "      <td>21</td>\n",
       "      <td>0</td>\n",
       "    </tr>\n",
       "    <tr>\n",
       "      <th>4</th>\n",
       "      <td>0</td>\n",
       "      <td>137</td>\n",
       "      <td>40</td>\n",
       "      <td>35</td>\n",
       "      <td>168</td>\n",
       "      <td>43.1</td>\n",
       "      <td>2.288</td>\n",
       "      <td>33</td>\n",
       "      <td>1</td>\n",
       "    </tr>\n",
       "  </tbody>\n",
       "</table>\n",
       "</div>"
      ],
      "text/plain": [
       "   Pregnancies  Glucose  BloodPressure  SkinThickness  Insulin   BMI  \\\n",
       "0            6      148             72             35        0  33.6   \n",
       "1            1       85             66             29        0  26.6   \n",
       "2            8      183             64              0        0  23.3   \n",
       "3            1       89             66             23       94  28.1   \n",
       "4            0      137             40             35      168  43.1   \n",
       "\n",
       "   DiabetesPedigreeFunction  Age  Outcome  \n",
       "0                     0.627   50        1  \n",
       "1                     0.351   31        0  \n",
       "2                     0.672   32        1  \n",
       "3                     0.167   21        0  \n",
       "4                     2.288   33        1  "
      ]
     },
     "metadata": {},
     "output_type": "display_data"
    }
   ],
   "source": [
    "import pandas as pd\n",
    "import numpy as np\n",
    "from time import time\n",
    "from IPython.display import display # allows to use display() for dataframes\n",
    "import matplotlib.pyplot as plt\n",
    "import sklearn\n",
    "\n",
    "# pretty display for notebooks\n",
    "%matplotlib inline\n",
    "\n",
    "# loading the data\n",
    "data = pd.read_csv('/kaggle/input/diabetes-dataset/diabetes.csv')\n",
    "\n",
    "\n",
    "# Display records\n",
    "display(data.head())"
   ]
  },
  {
   "cell_type": "markdown",
   "id": "8ee99632",
   "metadata": {
    "_cell_guid": "48969825-22db-4982-a803-f00847bfb751",
    "_uuid": "0fb164a8-a40b-4433-8e98-a4bad9fac288",
    "collapsed": false,
    "jupyter": {
     "outputs_hidden": false
    },
    "papermill": {
     "duration": 0.00334,
     "end_time": "2025-09-18T12:36:44.970609",
     "exception": false,
     "start_time": "2025-09-18T12:36:44.967269",
     "status": "completed"
    },
    "tags": []
   },
   "source": [
    "1. Pregnancies: This attribute represents the number of times the person has been pregnant. It ranges from 0 to 17 pregnancies.\n",
    "\n",
    "2. Glucose: This attribute represents the glucose level in the person's blood. Glucose levels are measured in mg/dL and range from 0 to 199 mg/dL.\n",
    "\n",
    "3. BloodPressure: This attribute represents the person's blood pressure measurement. Blood pressure is measured in mm Hg and consists of two numbers, the systolic and diastolic blood pressure. The systolic blood pressure ranges from 0 to 122 mm Hg, while the diastolic blood pressure ranges from 0 to 99 mm Hg.\n",
    "\n",
    "4. SkinThickness: This attribute represents the thickness of the person's skin in mm. It is measured using a caliper and ranges from 0 to 99 mm.\n",
    "\n",
    "5. Insulin: This attribute represents the insulin level in the person's blood. Insulin is a hormone that regulates blood sugar levels. Insulin levels are measured in μU/mL and range from 0 to 846 μU/mL.\n",
    "\n",
    "6. BMI: This attribute represents the person's body mass index. BMI is a measure of body fat based on height and weight. It is calculated as weight in kilograms divided by height in meters squared and ranges from 0 to 67.1 kg/m².\n",
    "\n",
    "7. DiabetesPedigreeFunction: This attribute represents the person's diabetes pedigree function, which provides an estimate of the likelihood of the person developing diabetes based on family history. It is a dimensionless value and ranges from 0.078 to 2.42.\n",
    "\n",
    "8. Age: This attribute represents the person's age in years and ranges from 21 to 81 years.\n",
    "\n",
    "9. Outcome: This attribute represents the final result, where 1 indicates that the person has diabetes and 0 indicates that the person does not have diabetes."
   ]
  },
  {
   "cell_type": "markdown",
   "id": "7255ba67",
   "metadata": {
    "_cell_guid": "1cdae263-c7b0-4e8b-aaab-c21e92bada1b",
    "_uuid": "96e1d9a4-d1e6-4985-8cb0-26f9aef74792",
    "collapsed": false,
    "jupyter": {
     "outputs_hidden": false
    },
    "papermill": {
     "duration": 0.003305,
     "end_time": "2025-09-18T12:36:44.977534",
     "exception": false,
     "start_time": "2025-09-18T12:36:44.974229",
     "status": "completed"
    },
    "tags": []
   },
   "source": [
    "## Preparing data"
   ]
  },
  {
   "cell_type": "code",
   "execution_count": 2,
   "id": "5a924256",
   "metadata": {
    "_cell_guid": "adc72cfb-fc1b-49fd-b3cb-e4b63cdeb866",
    "_uuid": "5545e7a0-8ca8-4c8f-a872-f04e2ffa49a9",
    "collapsed": false,
    "execution": {
     "iopub.execute_input": "2025-09-18T12:36:44.986041Z",
     "iopub.status.busy": "2025-09-18T12:36:44.985690Z",
     "iopub.status.idle": "2025-09-18T12:36:44.995322Z",
     "shell.execute_reply": "2025-09-18T12:36:44.994317Z"
    },
    "jupyter": {
     "outputs_hidden": false
    },
    "papermill": {
     "duration": 0.015778,
     "end_time": "2025-09-18T12:36:44.996876",
     "exception": false,
     "start_time": "2025-09-18T12:36:44.981098",
     "status": "completed"
    },
    "tags": []
   },
   "outputs": [
    {
     "name": "stdout",
     "output_type": "stream",
     "text": [
      "Number of missing values in skin thickness column : 227\n",
      "Number of missing values in Insulin column : 374\n"
     ]
    }
   ],
   "source": [
    "# Find missing values\n",
    "\n",
    "print('Number of missing values in skin thickness column :' ,(data[\"SkinThickness\"]==0).sum())\n",
    "print('Number of missing values in Insulin column :' ,(data[\"Insulin\"]==0).sum())"
   ]
  },
  {
   "cell_type": "code",
   "execution_count": 3,
   "id": "493ff796",
   "metadata": {
    "execution": {
     "iopub.execute_input": "2025-09-18T12:36:45.005924Z",
     "iopub.status.busy": "2025-09-18T12:36:45.005531Z",
     "iopub.status.idle": "2025-09-18T12:36:45.014761Z",
     "shell.execute_reply": "2025-09-18T12:36:45.013450Z"
    },
    "papermill": {
     "duration": 0.015393,
     "end_time": "2025-09-18T12:36:45.016238",
     "exception": false,
     "start_time": "2025-09-18T12:36:45.000845",
     "status": "completed"
    },
    "tags": []
   },
   "outputs": [
    {
     "name": "stderr",
     "output_type": "stream",
     "text": [
      "/tmp/ipykernel_13/1275211713.py:2: FutureWarning: Setting an item of incompatible dtype is deprecated and will raise an error in a future version of pandas. Value '20.536458333333332' has dtype incompatible with int64, please explicitly cast to a compatible dtype first.\n",
      "  data.loc[data[\"SkinThickness\"] == 0, \"SkinThickness\"] =  data[\"SkinThickness\"].mean()\n",
      "/tmp/ipykernel_13/1275211713.py:3: FutureWarning: Setting an item of incompatible dtype is deprecated and will raise an error in a future version of pandas. Value '79.79947916666667' has dtype incompatible with int64, please explicitly cast to a compatible dtype first.\n",
      "  data.loc[data[\"Insulin\"] == 0, \"Insulin\"] =  data[\"Insulin\"].mean()\n"
     ]
    }
   ],
   "source": [
    "# replace 0 values in both columns with the mean values of the column\n",
    "data.loc[data[\"SkinThickness\"] == 0, \"SkinThickness\"] =  data[\"SkinThickness\"].mean()\n",
    "data.loc[data[\"Insulin\"] == 0, \"Insulin\"] =  data[\"Insulin\"].mean()"
   ]
  },
  {
   "cell_type": "code",
   "execution_count": 4,
   "id": "36447f2d",
   "metadata": {
    "execution": {
     "iopub.execute_input": "2025-09-18T12:36:45.025579Z",
     "iopub.status.busy": "2025-09-18T12:36:45.024418Z",
     "iopub.status.idle": "2025-09-18T12:36:45.031433Z",
     "shell.execute_reply": "2025-09-18T12:36:45.030444Z"
    },
    "papermill": {
     "duration": 0.012814,
     "end_time": "2025-09-18T12:36:45.032849",
     "exception": false,
     "start_time": "2025-09-18T12:36:45.020035",
     "status": "completed"
    },
    "tags": []
   },
   "outputs": [
    {
     "name": "stdout",
     "output_type": "stream",
     "text": [
      "0\n",
      "0\n"
     ]
    }
   ],
   "source": [
    "# count the number of 0 values left should be 0\n",
    "\n",
    "print((data[\"SkinThickness\"] == 0).sum())\n",
    "print((data[\"Insulin\"] == 0).sum())"
   ]
  },
  {
   "cell_type": "code",
   "execution_count": 5,
   "id": "cd1527d3",
   "metadata": {
    "execution": {
     "iopub.execute_input": "2025-09-18T12:36:45.042845Z",
     "iopub.status.busy": "2025-09-18T12:36:45.041898Z",
     "iopub.status.idle": "2025-09-18T12:36:45.055087Z",
     "shell.execute_reply": "2025-09-18T12:36:45.054075Z"
    },
    "papermill": {
     "duration": 0.019893,
     "end_time": "2025-09-18T12:36:45.056608",
     "exception": false,
     "start_time": "2025-09-18T12:36:45.036715",
     "status": "completed"
    },
    "tags": []
   },
   "outputs": [
    {
     "data": {
      "text/html": [
       "<div>\n",
       "<style scoped>\n",
       "    .dataframe tbody tr th:only-of-type {\n",
       "        vertical-align: middle;\n",
       "    }\n",
       "\n",
       "    .dataframe tbody tr th {\n",
       "        vertical-align: top;\n",
       "    }\n",
       "\n",
       "    .dataframe thead th {\n",
       "        text-align: right;\n",
       "    }\n",
       "</style>\n",
       "<table border=\"1\" class=\"dataframe\">\n",
       "  <thead>\n",
       "    <tr style=\"text-align: right;\">\n",
       "      <th></th>\n",
       "      <th>Pregnancies</th>\n",
       "      <th>Glucose</th>\n",
       "      <th>BloodPressure</th>\n",
       "      <th>SkinThickness</th>\n",
       "      <th>Insulin</th>\n",
       "      <th>BMI</th>\n",
       "      <th>DiabetesPedigreeFunction</th>\n",
       "      <th>Age</th>\n",
       "      <th>Outcome</th>\n",
       "    </tr>\n",
       "  </thead>\n",
       "  <tbody>\n",
       "    <tr>\n",
       "      <th>0</th>\n",
       "      <td>6</td>\n",
       "      <td>148</td>\n",
       "      <td>72</td>\n",
       "      <td>35.000000</td>\n",
       "      <td>79.799479</td>\n",
       "      <td>33.6</td>\n",
       "      <td>0.627</td>\n",
       "      <td>50</td>\n",
       "      <td>1</td>\n",
       "    </tr>\n",
       "    <tr>\n",
       "      <th>1</th>\n",
       "      <td>1</td>\n",
       "      <td>85</td>\n",
       "      <td>66</td>\n",
       "      <td>29.000000</td>\n",
       "      <td>79.799479</td>\n",
       "      <td>26.6</td>\n",
       "      <td>0.351</td>\n",
       "      <td>31</td>\n",
       "      <td>0</td>\n",
       "    </tr>\n",
       "    <tr>\n",
       "      <th>2</th>\n",
       "      <td>8</td>\n",
       "      <td>183</td>\n",
       "      <td>64</td>\n",
       "      <td>20.536458</td>\n",
       "      <td>79.799479</td>\n",
       "      <td>23.3</td>\n",
       "      <td>0.672</td>\n",
       "      <td>32</td>\n",
       "      <td>1</td>\n",
       "    </tr>\n",
       "    <tr>\n",
       "      <th>3</th>\n",
       "      <td>1</td>\n",
       "      <td>89</td>\n",
       "      <td>66</td>\n",
       "      <td>23.000000</td>\n",
       "      <td>94.000000</td>\n",
       "      <td>28.1</td>\n",
       "      <td>0.167</td>\n",
       "      <td>21</td>\n",
       "      <td>0</td>\n",
       "    </tr>\n",
       "    <tr>\n",
       "      <th>4</th>\n",
       "      <td>0</td>\n",
       "      <td>137</td>\n",
       "      <td>40</td>\n",
       "      <td>35.000000</td>\n",
       "      <td>168.000000</td>\n",
       "      <td>43.1</td>\n",
       "      <td>2.288</td>\n",
       "      <td>33</td>\n",
       "      <td>1</td>\n",
       "    </tr>\n",
       "  </tbody>\n",
       "</table>\n",
       "</div>"
      ],
      "text/plain": [
       "   Pregnancies  Glucose  BloodPressure  SkinThickness     Insulin   BMI  \\\n",
       "0            6      148             72      35.000000   79.799479  33.6   \n",
       "1            1       85             66      29.000000   79.799479  26.6   \n",
       "2            8      183             64      20.536458   79.799479  23.3   \n",
       "3            1       89             66      23.000000   94.000000  28.1   \n",
       "4            0      137             40      35.000000  168.000000  43.1   \n",
       "\n",
       "   DiabetesPedigreeFunction  Age  Outcome  \n",
       "0                     0.627   50        1  \n",
       "1                     0.351   31        0  \n",
       "2                     0.672   32        1  \n",
       "3                     0.167   21        0  \n",
       "4                     2.288   33        1  "
      ]
     },
     "metadata": {},
     "output_type": "display_data"
    }
   ],
   "source": [
    "display(data.head())"
   ]
  },
  {
   "cell_type": "code",
   "execution_count": 6,
   "id": "6ccfd480",
   "metadata": {
    "execution": {
     "iopub.execute_input": "2025-09-18T12:36:45.066265Z",
     "iopub.status.busy": "2025-09-18T12:36:45.065486Z",
     "iopub.status.idle": "2025-09-18T12:36:45.078770Z",
     "shell.execute_reply": "2025-09-18T12:36:45.077646Z"
    },
    "papermill": {
     "duration": 0.019653,
     "end_time": "2025-09-18T12:36:45.080305",
     "exception": false,
     "start_time": "2025-09-18T12:36:45.060652",
     "status": "completed"
    },
    "tags": []
   },
   "outputs": [
    {
     "name": "stdout",
     "output_type": "stream",
     "text": [
      "Total number of records: 768\n",
      "Number of persons diagonised with diabetes : 268\n",
      "Number of persons not having diabetes : 500\n",
      "Percentage of people who are Diabetic : 34.89583333333333%\n"
     ]
    }
   ],
   "source": [
    "#Total number of records\n",
    "n_records = len(data.index)\n",
    "\n",
    "#Number of records where outcome = 1\n",
    "n_1 = data[data.Outcome == 1].shape[0]\n",
    "\n",
    "#Number of records where outcome = 0\n",
    "n_0 = data[data.Outcome == 0].shape[0]\n",
    "\n",
    "#Percentage of individuals whose Outcome is 1\n",
    "n1_perc = (n_1/n_records) * 100\n",
    "\n",
    "# Print the results\n",
    "print(\"Total number of records: {}\".format(n_records))\n",
    "print(\"Number of persons diagonised with diabetes : {}\".format(n_1))\n",
    "print(\"Number of persons not having diabetes : {}\".format(n_0))\n",
    "print(\"Percentage of people who are Diabetic : {}%\".format(n1_perc))"
   ]
  },
  {
   "cell_type": "code",
   "execution_count": 7,
   "id": "786ef1f6",
   "metadata": {
    "execution": {
     "iopub.execute_input": "2025-09-18T12:36:45.090548Z",
     "iopub.status.busy": "2025-09-18T12:36:45.090270Z",
     "iopub.status.idle": "2025-09-18T12:36:45.614463Z",
     "shell.execute_reply": "2025-09-18T12:36:45.613423Z"
    },
    "papermill": {
     "duration": 0.531797,
     "end_time": "2025-09-18T12:36:45.616184",
     "exception": false,
     "start_time": "2025-09-18T12:36:45.084387",
     "status": "completed"
    },
    "tags": []
   },
   "outputs": [
    {
     "data": {
      "image/png": "[encoded data removed]",
      "text/plain": [
       "<Figure size 1100x500 with 2 Axes>"
      ]
     },
     "metadata": {},
     "output_type": "display_data"
    }
   ],
   "source": [
    "# Split the data into features and target label\n",
    "\n",
    "outcome_r = data['Outcome'] #target label\n",
    "features_r = data.drop('Outcome', axis = 1) #other features\n",
    "\n",
    "# Visualize skewed continuous features of original data\n",
    "fig = plt.figure(figsize = (11,5));\n",
    "\n",
    "# Skewed feature plotting\n",
    "for i, feature in enumerate(['SkinThickness','Insulin']):\n",
    "    ax = fig.add_subplot(1, 2, i+1)\n",
    "    ax.hist(data[feature], bins = 25, color = '#00A0A0')\n",
    "    ax.set_title(\"'%s' Feature Distribution\"%(feature), fontsize = 14)\n",
    "    ax.set_xlabel(\"Value\")\n",
    "    ax.set_ylabel(\"Number of Records\")"
   ]
  },
  {
   "cell_type": "code",
   "execution_count": 8,
   "id": "2f37d442",
   "metadata": {
    "execution": {
     "iopub.execute_input": "2025-09-18T12:36:45.626668Z",
     "iopub.status.busy": "2025-09-18T12:36:45.626301Z",
     "iopub.status.idle": "2025-09-18T12:36:45.633603Z",
     "shell.execute_reply": "2025-09-18T12:36:45.632813Z"
    },
    "papermill": {
     "duration": 0.014113,
     "end_time": "2025-09-18T12:36:45.635061",
     "exception": false,
     "start_time": "2025-09-18T12:36:45.620948",
     "status": "completed"
    },
    "tags": []
   },
   "outputs": [],
   "source": [
    "def distribution(data, transformed = False):\n",
    "    \"\"\"\n",
    "    Visualization code for displaying skewed distributions of features\n",
    "    \"\"\"\n",
    "    \n",
    "    # Create figure\n",
    "    fig = plt.figure(figsize = (11,5));\n",
    "\n",
    "    # Skewed feature plotting\n",
    "    for i, feature in enumerate(['SkinThickness','Insulin']):\n",
    "        ax = fig.add_subplot(1, 2, i+1)\n",
    "        ax.hist(data[feature], bins = 25, color = '#00A0A0')\n",
    "        ax.set_title(\"'%s' Feature Distribution\"%(feature), fontsize = 14)\n",
    "        ax.set_xlabel(\"Value\")\n",
    "        ax.set_ylabel(\"Number of Records\")\n",
    "\n",
    "    # Plot aesthetics\n",
    "    if transformed:\n",
    "        fig.suptitle(\"Log-transformed Distributions\", \\\n",
    "            fontsize = 16, y = 1.03)\n",
    "    else:\n",
    "        fig.suptitle(\"Skewed Distributions\", \\\n",
    "            fontsize = 16, y = 1.03)\n",
    "\n",
    "    fig.tight_layout()\n",
    "    fig.show()"
   ]
  },
  {
   "cell_type": "code",
   "execution_count": 9,
   "id": "b06e08d1",
   "metadata": {
    "execution": {
     "iopub.execute_input": "2025-09-18T12:36:45.645411Z",
     "iopub.status.busy": "2025-09-18T12:36:45.645102Z",
     "iopub.status.idle": "2025-09-18T12:36:46.162864Z",
     "shell.execute_reply": "2025-09-18T12:36:46.161875Z"
    },
    "papermill": {
     "duration": 0.525034,
     "end_time": "2025-09-18T12:36:46.164690",
     "exception": false,
     "start_time": "2025-09-18T12:36:45.639656",
     "status": "completed"
    },
    "tags": []
   },
   "outputs": [
    {
     "data": {
      "image/png": "[encoded data removed]",
      "text/plain": [
       "<Figure size 1100x500 with 2 Axes>"
      ]
     },
     "metadata": {},
     "output_type": "display_data"
    }
   ],
   "source": [
    "# Log-transform the skewed features\n",
    "skewed = ['SkinThickness','Insulin']\n",
    "features_log_transformed = pd.DataFrame(data = features_r)\n",
    "features_log_transformed[skewed] = features_r[skewed].apply(lambda x: np.log(x + 1))\n",
    "\n",
    "# Visualize the new log distributions\n",
    "distribution(features_log_transformed, transformed = True)"
   ]
  },
  {
   "cell_type": "code",
   "execution_count": 10,
   "id": "d7614b01",
   "metadata": {
    "execution": {
     "iopub.execute_input": "2025-09-18T12:36:46.177487Z",
     "iopub.status.busy": "2025-09-18T12:36:46.177176Z",
     "iopub.status.idle": "2025-09-18T12:36:46.332795Z",
     "shell.execute_reply": "2025-09-18T12:36:46.331915Z"
    },
    "papermill": {
     "duration": 0.163588,
     "end_time": "2025-09-18T12:36:46.334174",
     "exception": false,
     "start_time": "2025-09-18T12:36:46.170586",
     "status": "completed"
    },
    "tags": []
   },
   "outputs": [
    {
     "data": {
      "text/html": [
       "<div>\n",
       "<style scoped>\n",
       "    .dataframe tbody tr th:only-of-type {\n",
       "        vertical-align: middle;\n",
       "    }\n",
       "\n",
       "    .dataframe tbody tr th {\n",
       "        vertical-align: top;\n",
       "    }\n",
       "\n",
       "    .dataframe thead th {\n",
       "        text-align: right;\n",
       "    }\n",
       "</style>\n",
       "<table border=\"1\" class=\"dataframe\">\n",
       "  <thead>\n",
       "    <tr style=\"text-align: right;\">\n",
       "      <th></th>\n",
       "      <th>Pregnancies</th>\n",
       "      <th>Glucose</th>\n",
       "      <th>BloodPressure</th>\n",
       "      <th>SkinThickness</th>\n",
       "      <th>Insulin</th>\n",
       "      <th>BMI</th>\n",
       "      <th>DiabetesPedigreeFunction</th>\n",
       "      <th>Age</th>\n",
       "    </tr>\n",
       "  </thead>\n",
       "  <tbody>\n",
       "    <tr>\n",
       "      <th>0</th>\n",
       "      <td>6</td>\n",
       "      <td>148</td>\n",
       "      <td>72</td>\n",
       "      <td>0.595502</td>\n",
       "      <td>0.417468</td>\n",
       "      <td>33.6</td>\n",
       "      <td>0.234415</td>\n",
       "      <td>50</td>\n",
       "    </tr>\n",
       "    <tr>\n",
       "      <th>1</th>\n",
       "      <td>1</td>\n",
       "      <td>85</td>\n",
       "      <td>66</td>\n",
       "      <td>0.523317</td>\n",
       "      <td>0.417468</td>\n",
       "      <td>26.6</td>\n",
       "      <td>0.116567</td>\n",
       "      <td>31</td>\n",
       "    </tr>\n",
       "    <tr>\n",
       "      <th>2</th>\n",
       "      <td>8</td>\n",
       "      <td>183</td>\n",
       "      <td>64</td>\n",
       "      <td>0.392087</td>\n",
       "      <td>0.417468</td>\n",
       "      <td>23.3</td>\n",
       "      <td>0.253629</td>\n",
       "      <td>32</td>\n",
       "    </tr>\n",
       "    <tr>\n",
       "      <th>3</th>\n",
       "      <td>1</td>\n",
       "      <td>89</td>\n",
       "      <td>66</td>\n",
       "      <td>0.434968</td>\n",
       "      <td>0.457607</td>\n",
       "      <td>28.1</td>\n",
       "      <td>0.038002</td>\n",
       "      <td>21</td>\n",
       "    </tr>\n",
       "    <tr>\n",
       "      <th>4</th>\n",
       "      <td>0</td>\n",
       "      <td>137</td>\n",
       "      <td>40</td>\n",
       "      <td>0.595502</td>\n",
       "      <td>0.600411</td>\n",
       "      <td>43.1</td>\n",
       "      <td>0.943638</td>\n",
       "      <td>33</td>\n",
       "    </tr>\n",
       "  </tbody>\n",
       "</table>\n",
       "</div>"
      ],
      "text/plain": [
       "   Pregnancies  Glucose  BloodPressure  SkinThickness   Insulin   BMI  \\\n",
       "0            6      148             72       0.595502  0.417468  33.6   \n",
       "1            1       85             66       0.523317  0.417468  26.6   \n",
       "2            8      183             64       0.392087  0.417468  23.3   \n",
       "3            1       89             66       0.434968  0.457607  28.1   \n",
       "4            0      137             40       0.595502  0.600411  43.1   \n",
       "\n",
       "   DiabetesPedigreeFunction  Age  \n",
       "0                  0.234415   50  \n",
       "1                  0.116567   31  \n",
       "2                  0.253629   32  \n",
       "3                  0.038002   21  \n",
       "4                  0.943638   33  "
      ]
     },
     "metadata": {},
     "output_type": "display_data"
    }
   ],
   "source": [
    "#Import sklearn.preprocessing.StandardScaler\n",
    "from sklearn.preprocessing import MinMaxScaler\n",
    "\n",
    "# Initialize a scaler, then apply it to the features\n",
    "scaler = MinMaxScaler() # default=(0, 1)\n",
    "numerical = ['Insulin','SkinThickness', 'DiabetesPedigreeFunction']\n",
    "\n",
    "features_log_minmax_transform = pd.DataFrame(data = features_log_transformed)\n",
    "features_log_minmax_transform[numerical] = scaler.fit_transform(features_log_transformed[numerical])\n",
    "\n",
    "# Show an example of a record with scaling applied\n",
    "display(features_log_minmax_transform.head(n = 5))\n",
    "features_final = features_log_minmax_transform"
   ]
  },
  {
   "cell_type": "markdown",
   "id": "c9d4c36a",
   "metadata": {
    "papermill": {
     "duration": 0.004989,
     "end_time": "2025-09-18T12:36:46.344484",
     "exception": false,
     "start_time": "2025-09-18T12:36:46.339495",
     "status": "completed"
    },
    "tags": []
   },
   "source": [
    "## Training and Testing dataset\n"
   ]
  },
  {
   "cell_type": "code",
   "execution_count": 11,
   "id": "3415d8c2",
   "metadata": {
    "execution": {
     "iopub.execute_input": "2025-09-18T12:36:46.356330Z",
     "iopub.status.busy": "2025-09-18T12:36:46.355990Z",
     "iopub.status.idle": "2025-09-18T12:36:46.485219Z",
     "shell.execute_reply": "2025-09-18T12:36:46.484057Z"
    },
    "papermill": {
     "duration": 0.137579,
     "end_time": "2025-09-18T12:36:46.487241",
     "exception": false,
     "start_time": "2025-09-18T12:36:46.349662",
     "status": "completed"
    },
    "tags": []
   },
   "outputs": [
    {
     "name": "stdout",
     "output_type": "stream",
     "text": [
      "Training set has 614 samples.\n",
      "Testing set has 154 samples.\n"
     ]
    }
   ],
   "source": [
    "# Import train_test_split\n",
    "from sklearn.model_selection import train_test_split\n",
    "\n",
    "# Split the 'features' and 'income' data into training and testing sets\n",
    "X_train, X_test, y_train, y_test = train_test_split(features_final, \n",
    "                                                    outcome_r, \n",
    "                                                    test_size = 0.2, \n",
    "                                                    random_state = 42)\n",
    "\n",
    "# Show the results of the split\n",
    "print(\"Training set has {} samples.\".format(X_train.shape[0]))\n",
    "print(\"Testing set has {} samples.\".format(X_test.shape[0]))"
   ]
  }
 ],
 "metadata": {
  "kaggle": {
   "accelerator": "none",
   "dataSources": [
    {
     "datasetId": 2527538,
     "sourceId": 4289678,
     "sourceType": "datasetVersion"
    }
   ],
   "dockerImageVersionId": 31089,
   "isGpuEnabled": false,
   "isInternetEnabled": false,
   "language": "python",
   "sourceType": "notebook"
  },
  "kernelspec": {
   "display_name": "Python 3",
   "language": "python",
   "name": "python3"
  },
  "language_info": {
   "codemirror_mode": {
    "name": "ipython",
    "version": 3
   },
   "file_extension": ".py",
   "mimetype": "text/x-python",
   "name": "python",
   "nbconvert_exporter": "python",
   "pygments_lexer": "ipython3",
   "version": "3.11.13"
  },
  "papermill": {
   "default_parameters": {},
   "duration": 11.934546,
   "end_time": "2025-09-18T12:36:47.213914",
   "environment_variables": {},
   "exception": null,
   "input_path": "__notebook__.ipynb",
   "output_path": "__notebook__.ipynb",
   "parameters": {},
   "start_time": "2025-09-18T12:36:35.279368",
   "version": "2.6.0"
  }
 },
 "nbformat": 4,
 "nbformat_minor": 5
}
